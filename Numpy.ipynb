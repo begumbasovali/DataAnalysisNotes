{
  "cells": [
    {
      "cell_type": "markdown",
      "metadata": {
        "id": "vJ20B-qlVr7U"
      },
      "source": [
        "## NUMPY\n",
        "\n",
        "Matematiksel fonksiyonların olduğu kütüphanedir. Hızlı numerik işlemler için kullanılır.\n",
        "\n",
        "\n",
        "*   Tek boyutlu array olabilir ama matrix olamaz.\n",
        "*   İki boyutlu array lere matrix denir.\n",
        "\n",
        "\n",
        "*   Numpy Array ler homojen olmalı(aynı tipte veriler).\n",
        "*  \n",
        "\n"
      ]
    },
    {
      "cell_type": "code",
      "execution_count": 2,
      "metadata": {
        "id": "3TdqxA_lVr7o"
      },
      "outputs": [],
      "source": [
        "import numpy as np"
      ]
    },
    {
      "cell_type": "code",
      "source": [
        "sinus = np.sin(np.pi/2)"
      ],
      "metadata": {
        "id": "JsvzCIJ-Yj9a"
      },
      "execution_count": null,
      "outputs": []
    },
    {
      "cell_type": "markdown",
      "metadata": {
        "id": "_-ZTdrtMVr7y"
      },
      "source": [
        "## Array yaratmak\n"
      ]
    },
    {
      "cell_type": "markdown",
      "metadata": {
        "id": "ASVA-NQPVr70"
      },
      "source": [
        "Python listlerine benzeyen, ancak farklı veri tiplerinde eleman içeremez aynı tipten çok sayıda elemanı içeren, hızlı işlem yapılmasını sağlayan kavramlardır."
      ]
    },
    {
      "cell_type": "code",
      "execution_count": null,
      "metadata": {
        "id": "FSaNvtUdVr72"
      },
      "outputs": [],
      "source": [
        "x= np.array([1,2,3,4])"
      ]
    },
    {
      "cell_type": "code",
      "execution_count": null,
      "metadata": {
        "id": "e41XvsFKVr75",
        "colab": {
          "base_uri": "https://localhost:8080/"
        },
        "outputId": "f6e684ab-cd44-44b2-8055-57ed6388ccbc"
      },
      "outputs": [
        {
          "output_type": "execute_result",
          "data": {
            "text/plain": [
              "array([1, 2, 3, 4])"
            ]
          },
          "metadata": {},
          "execution_count": 6
        }
      ],
      "source": [
        "x"
      ]
    },
    {
      "cell_type": "code",
      "execution_count": null,
      "metadata": {
        "id": "5Q1srFzyVr8A",
        "colab": {
          "base_uri": "https://localhost:8080/"
        },
        "outputId": "2b86c721-f3bb-49f9-b203-a154ad6c6593"
      },
      "outputs": [
        {
          "output_type": "execute_result",
          "data": {
            "text/plain": [
              "numpy.ndarray"
            ]
          },
          "metadata": {},
          "execution_count": 7
        }
      ],
      "source": [
        "type(x)"
      ]
    },
    {
      "cell_type": "code",
      "execution_count": null,
      "metadata": {
        "id": "nE32MZz1Vr8D"
      },
      "outputs": [],
      "source": [
        "m= np.array([\"a\",\"b\",\"c\"])"
      ]
    },
    {
      "cell_type": "code",
      "execution_count": null,
      "metadata": {
        "id": "53b9WMC4Vr8F",
        "colab": {
          "base_uri": "https://localhost:8080/"
        },
        "outputId": "e8756642-d3ea-4532-990e-790adacdb617"
      },
      "outputs": [
        {
          "output_type": "execute_result",
          "data": {
            "text/plain": [
              "array(['a', 'b', 'c'], dtype='<U1')"
            ]
          },
          "metadata": {},
          "execution_count": 9
        }
      ],
      "source": [
        "m"
      ]
    },
    {
      "cell_type": "code",
      "execution_count": null,
      "metadata": {
        "id": "dRoSi2IgVr8I"
      },
      "outputs": [],
      "source": [
        "## eğer arrayin içinde bir tane bile karakter varsa; elemanlar, arrayın içinde string tipinde tutulur.\n",
        "n= np.array([1,2,3,2.5,\"a\"])"
      ]
    },
    {
      "cell_type": "code",
      "execution_count": null,
      "metadata": {
        "id": "efHfThiwVr8J",
        "colab": {
          "base_uri": "https://localhost:8080/"
        },
        "outputId": "a18bef58-421e-4c01-f1f0-fb3b85dac6fa"
      },
      "outputs": [
        {
          "output_type": "execute_result",
          "data": {
            "text/plain": [
              "array(['1', '2', '3', '2.5', 'a'], dtype='<U32')"
            ]
          },
          "metadata": {},
          "execution_count": 11
        }
      ],
      "source": [
        "n"
      ]
    },
    {
      "cell_type": "code",
      "execution_count": null,
      "metadata": {
        "id": "I1vFoNmuVr8O"
      },
      "outputs": [],
      "source": [
        "# Bir tane float olduğu için dğer integerlar da floata dönüştü\n",
        "z= np.array([1,2,3,3.5])"
      ]
    },
    {
      "cell_type": "code",
      "execution_count": null,
      "metadata": {
        "id": "0nH55gYBVr8Q",
        "colab": {
          "base_uri": "https://localhost:8080/"
        },
        "outputId": "55e47fcb-15a5-4e72-c2c0-0c32bd8b8d0e"
      },
      "outputs": [
        {
          "output_type": "execute_result",
          "data": {
            "text/plain": [
              "array([1. , 2. , 3. , 3.5])"
            ]
          },
          "metadata": {},
          "execution_count": 13
        }
      ],
      "source": [
        "z"
      ]
    },
    {
      "cell_type": "code",
      "source": [
        "# String değer içerdiğinden diğer elemanlar da string veri tipine cast edilir\n",
        "c=np.array(['30',20,64,\"s\",6.2])\n",
        "c"
      ],
      "metadata": {
        "colab": {
          "base_uri": "https://localhost:8080/"
        },
        "id": "Q_lJHCxvgc3U",
        "outputId": "ab3482e5-247c-403d-cbdf-63d2f0372f8a"
      },
      "execution_count": null,
      "outputs": [
        {
          "output_type": "execute_result",
          "data": {
            "text/plain": [
              "array(['30', '20', '64', 's', '6.2'], dtype='<U32')"
            ]
          },
          "metadata": {},
          "execution_count": 14
        }
      ]
    },
    {
      "cell_type": "markdown",
      "metadata": {
        "id": "RApwkHedVr8R"
      },
      "source": [
        "## Array data tipini belirleme"
      ]
    },
    {
      "cell_type": "code",
      "execution_count": null,
      "metadata": {
        "id": "2xyiF49yVr8S"
      },
      "outputs": [],
      "source": [
        "x=np.array([1,2,3.4]) # veriler genel olana cast edilir integar lar float a döner"
      ]
    },
    {
      "cell_type": "code",
      "execution_count": null,
      "metadata": {
        "id": "ZK_NpNkWVr8T",
        "colab": {
          "base_uri": "https://localhost:8080/"
        },
        "outputId": "bae920c1-f8b9-41e0-de7a-b41fa5ddb941"
      },
      "outputs": [
        {
          "output_type": "execute_result",
          "data": {
            "text/plain": [
              "array([1. , 2. , 3.4])"
            ]
          },
          "metadata": {},
          "execution_count": 16
        }
      ],
      "source": [
        "x"
      ]
    },
    {
      "cell_type": "code",
      "execution_count": null,
      "metadata": {
        "id": "KO3sGIIpVr8V"
      },
      "outputs": [],
      "source": [
        "x=np.array([1,2,3.6], dtype=\"int32\")   #arrayin tipini integer yapma"
      ]
    },
    {
      "cell_type": "code",
      "execution_count": null,
      "metadata": {
        "id": "oyaPLReqVr8W",
        "colab": {
          "base_uri": "https://localhost:8080/"
        },
        "outputId": "e3eb94b1-ee7b-4d61-ce1a-d45b175329a5"
      },
      "outputs": [
        {
          "output_type": "execute_result",
          "data": {
            "text/plain": [
              "array([1, 2, 3], dtype=int32)"
            ]
          },
          "metadata": {},
          "execution_count": 94
        }
      ],
      "source": [
        "x"
      ]
    },
    {
      "cell_type": "code",
      "execution_count": null,
      "metadata": {
        "id": "n-8b8hk0Vr8X"
      },
      "outputs": [],
      "source": [
        "y=np.array([1,2,3.4], dtype=\"str\") #arrayin tipini str yapma"
      ]
    },
    {
      "cell_type": "code",
      "execution_count": null,
      "metadata": {
        "id": "R-f5eLbkVr8X",
        "colab": {
          "base_uri": "https://localhost:8080/"
        },
        "outputId": "73feff47-c067-469a-8a9b-3e316c42f1de"
      },
      "outputs": [
        {
          "output_type": "execute_result",
          "data": {
            "text/plain": [
              "array(['1', '2', '3.4'], dtype='<U3')"
            ]
          },
          "metadata": {},
          "execution_count": 20
        }
      ],
      "source": [
        "y"
      ]
    },
    {
      "cell_type": "code",
      "execution_count": null,
      "metadata": {
        "id": "G5frox3zVr8Z",
        "colab": {
          "base_uri": "https://localhost:8080/",
          "height": 141
        },
        "outputId": "bedc4ccf-2cf3-4ca6-ffa2-6213a560fc9a"
      },
      "outputs": [
        {
          "output_type": "error",
          "ename": "ValueError",
          "evalue": "invalid literal for int() with base 10: 'a'",
          "traceback": [
            "\u001b[0;31m---------------------------------------------------------------------------\u001b[0m",
            "\u001b[0;31mValueError\u001b[0m                                Traceback (most recent call last)",
            "\u001b[0;32m/tmp/ipython-input-3757603258.py\u001b[0m in \u001b[0;36m<cell line: 0>\u001b[0;34m()\u001b[0m\n\u001b[0;32m----> 1\u001b[0;31m \u001b[0my\u001b[0m\u001b[0;34m=\u001b[0m\u001b[0mnp\u001b[0m\u001b[0;34m.\u001b[0m\u001b[0marray\u001b[0m\u001b[0;34m(\u001b[0m\u001b[0;34m[\u001b[0m\u001b[0;36m1\u001b[0m\u001b[0;34m,\u001b[0m\u001b[0;36m2\u001b[0m\u001b[0;34m,\u001b[0m\u001b[0;34m\"a\"\u001b[0m\u001b[0;34m]\u001b[0m\u001b[0;34m,\u001b[0m \u001b[0mdtype\u001b[0m\u001b[0;34m=\u001b[0m\u001b[0;34m\"int32\"\u001b[0m\u001b[0;34m)\u001b[0m  \u001b[0;31m#str olduğu için integer hale getiremeyiz.\u001b[0m\u001b[0;34m\u001b[0m\u001b[0;34m\u001b[0m\u001b[0m\n\u001b[0m",
            "\u001b[0;31mValueError\u001b[0m: invalid literal for int() with base 10: 'a'"
          ]
        }
      ],
      "source": [
        "y=np.array([1,2,\"a\"], dtype=\"int32\")  #str olduğu için integer hale getiremeyiz."
      ]
    },
    {
      "cell_type": "code",
      "source": [
        "#String halinde yazılmış float floata cast edilebilir\n",
        "z = np.array([\"5.2\"], dtype = \"float\")"
      ],
      "metadata": {
        "id": "BecH-RQWhF2h"
      },
      "execution_count": null,
      "outputs": []
    },
    {
      "cell_type": "code",
      "source": [
        "z"
      ],
      "metadata": {
        "colab": {
          "base_uri": "https://localhost:8080/"
        },
        "id": "cinLhmV_hZti",
        "outputId": "28cc03ef-4881-41fc-8719-c8b525c59fe2"
      },
      "execution_count": null,
      "outputs": [
        {
          "output_type": "execute_result",
          "data": {
            "text/plain": [
              "array([5.2])"
            ]
          },
          "metadata": {},
          "execution_count": 23
        }
      ]
    },
    {
      "cell_type": "code",
      "source": [
        "#String şeklinde yazılmış integer integar a cast edilebilir\n",
        "z = np.array([\"5\"], dtype = \"int32\")"
      ],
      "metadata": {
        "id": "gPG7_lxwiFqM"
      },
      "execution_count": null,
      "outputs": []
    },
    {
      "cell_type": "code",
      "source": [
        "z"
      ],
      "metadata": {
        "colab": {
          "base_uri": "https://localhost:8080/"
        },
        "id": "HvSbO_s_iMik",
        "outputId": "5bd92337-b26a-4b09-a2e8-11613d2643fa"
      },
      "execution_count": null,
      "outputs": [
        {
          "output_type": "execute_result",
          "data": {
            "text/plain": [
              "array([5], dtype=int32)"
            ]
          },
          "metadata": {},
          "execution_count": 25
        }
      ]
    },
    {
      "cell_type": "code",
      "source": [
        "#String biçiminde yazılmış float direkt integer a cast edilemez\n",
        "z = np.array([\"5.2\"], dtype = \"int32\")"
      ],
      "metadata": {
        "colab": {
          "base_uri": "https://localhost:8080/",
          "height": 158
        },
        "id": "kMuUyFexidkl",
        "outputId": "5f6e8672-7ba5-4125-bed0-07e4b27cb801"
      },
      "execution_count": null,
      "outputs": [
        {
          "output_type": "error",
          "ename": "ValueError",
          "evalue": "invalid literal for int() with base 10: '5.2'",
          "traceback": [
            "\u001b[0;31m---------------------------------------------------------------------------\u001b[0m",
            "\u001b[0;31mValueError\u001b[0m                                Traceback (most recent call last)",
            "\u001b[0;32m/tmp/ipython-input-3864085745.py\u001b[0m in \u001b[0;36m<cell line: 0>\u001b[0;34m()\u001b[0m\n\u001b[1;32m      1\u001b[0m \u001b[0;31m#String biçiminde yazılmış float direkt integer a cast edilemez\u001b[0m\u001b[0;34m\u001b[0m\u001b[0;34m\u001b[0m\u001b[0m\n\u001b[0;32m----> 2\u001b[0;31m \u001b[0mz\u001b[0m \u001b[0;34m=\u001b[0m \u001b[0mnp\u001b[0m\u001b[0;34m.\u001b[0m\u001b[0marray\u001b[0m\u001b[0;34m(\u001b[0m\u001b[0;34m[\u001b[0m\u001b[0;34m\"5.2\"\u001b[0m\u001b[0;34m]\u001b[0m\u001b[0;34m,\u001b[0m \u001b[0mdtype\u001b[0m \u001b[0;34m=\u001b[0m \u001b[0;34m\"int32\"\u001b[0m\u001b[0;34m)\u001b[0m\u001b[0;34m\u001b[0m\u001b[0;34m\u001b[0m\u001b[0m\n\u001b[0m",
            "\u001b[0;31mValueError\u001b[0m: invalid literal for int() with base 10: '5.2'"
          ]
        }
      ]
    },
    {
      "cell_type": "markdown",
      "metadata": {
        "id": "k8LR-9ITVr8b"
      },
      "source": [
        "## Elemanları 0 olan array"
      ]
    },
    {
      "cell_type": "code",
      "execution_count": null,
      "metadata": {
        "id": "TY-RP_WcVr8d",
        "colab": {
          "base_uri": "https://localhost:8080/"
        },
        "outputId": "e454aa4e-6efb-40cc-bd46-68a4619b0b7d"
      },
      "outputs": [
        {
          "output_type": "execute_result",
          "data": {
            "text/plain": [
              "array([0., 0., 0., 0., 0., 0., 0., 0., 0., 0.])"
            ]
          },
          "metadata": {},
          "execution_count": 5
        }
      ],
      "source": [
        "c= np.zeros(10) #kaç elemanlı 0 dan oluşan array istersin\n",
        "c"
      ]
    },
    {
      "cell_type": "code",
      "source": [
        "np.zeros(10, dtype = str )"
      ],
      "metadata": {
        "colab": {
          "base_uri": "https://localhost:8080/"
        },
        "id": "HuWJhodJLyrR",
        "outputId": "f6593bde-0800-459c-87ff-0a1a41718af0"
      },
      "execution_count": null,
      "outputs": [
        {
          "output_type": "execute_result",
          "data": {
            "text/plain": [
              "array(['', '', '', '', '', '', '', '', '', ''], dtype='<U1')"
            ]
          },
          "metadata": {},
          "execution_count": 6
        }
      ]
    },
    {
      "cell_type": "markdown",
      "source": [
        "# Elemanları 0 dan oluşan **multidimensional** array oluşturma"
      ],
      "metadata": {
        "id": "-P8TQCi1MSVU"
      }
    },
    {
      "cell_type": "code",
      "execution_count": null,
      "metadata": {
        "id": "madToddCVr8e"
      },
      "outputs": [],
      "source": [
        "#3 satır(row) ve 5 sütun(kolon)\n",
        "a=np.zeros((3,5)) #paranteze dikkat. Shape ve data type beklediği için () veya [] kullanmalısın"
      ]
    },
    {
      "cell_type": "code",
      "execution_count": null,
      "metadata": {
        "id": "8ZIzbnXZVr8f",
        "outputId": "a25370cd-66e6-4814-e5e5-b38c567253a0",
        "colab": {
          "base_uri": "https://localhost:8080/"
        }
      },
      "outputs": [
        {
          "output_type": "execute_result",
          "data": {
            "text/plain": [
              "array([[0., 0., 0., 0., 0.],\n",
              "       [0., 0., 0., 0., 0.],\n",
              "       [0., 0., 0., 0., 0.]])"
            ]
          },
          "metadata": {},
          "execution_count": 29
        }
      ],
      "source": [
        "# 2 boyutlu 3x5 lik array = matris\n",
        "x= np.zeros([3,5]) #köşeli paranteze dikkat\n",
        "x"
      ]
    },
    {
      "cell_type": "code",
      "execution_count": null,
      "metadata": {
        "id": "BIiKHqekVr8g",
        "outputId": "e2c803d6-3d2e-4e50-c0a9-814cf8bec105",
        "colab": {
          "base_uri": "https://localhost:8080/"
        }
      },
      "outputs": [
        {
          "output_type": "execute_result",
          "data": {
            "text/plain": [
              "array([[[0., 0., 0., 0., 0., 0., 0.],\n",
              "        [0., 0., 0., 0., 0., 0., 0.],\n",
              "        [0., 0., 0., 0., 0., 0., 0.],\n",
              "        [0., 0., 0., 0., 0., 0., 0.],\n",
              "        [0., 0., 0., 0., 0., 0., 0.]],\n",
              "\n",
              "       [[0., 0., 0., 0., 0., 0., 0.],\n",
              "        [0., 0., 0., 0., 0., 0., 0.],\n",
              "        [0., 0., 0., 0., 0., 0., 0.],\n",
              "        [0., 0., 0., 0., 0., 0., 0.],\n",
              "        [0., 0., 0., 0., 0., 0., 0.]],\n",
              "\n",
              "       [[0., 0., 0., 0., 0., 0., 0.],\n",
              "        [0., 0., 0., 0., 0., 0., 0.],\n",
              "        [0., 0., 0., 0., 0., 0., 0.],\n",
              "        [0., 0., 0., 0., 0., 0., 0.],\n",
              "        [0., 0., 0., 0., 0., 0., 0.]],\n",
              "\n",
              "       [[0., 0., 0., 0., 0., 0., 0.],\n",
              "        [0., 0., 0., 0., 0., 0., 0.],\n",
              "        [0., 0., 0., 0., 0., 0., 0.],\n",
              "        [0., 0., 0., 0., 0., 0., 0.],\n",
              "        [0., 0., 0., 0., 0., 0., 0.]]])"
            ]
          },
          "metadata": {},
          "execution_count": 30
        }
      ],
      "source": [
        "# 3 boyutlu = tensor\n",
        "# 4 tane 5x7 lik array kur\n",
        "y= np.zeros([4,5,7])\n",
        "y"
      ]
    },
    {
      "cell_type": "code",
      "source": [
        "np.zeros(2, dtype = int)"
      ],
      "metadata": {
        "colab": {
          "base_uri": "https://localhost:8080/"
        },
        "id": "iQbIE1nyNlHe",
        "outputId": "e3a59a36-f81b-4ff6-89c2-83a43e30791a"
      },
      "execution_count": null,
      "outputs": [
        {
          "output_type": "execute_result",
          "data": {
            "text/plain": [
              "array([0, 0])"
            ]
          },
          "metadata": {},
          "execution_count": 98
        }
      ]
    },
    {
      "cell_type": "code",
      "source": [
        "np.zeros((1,2), dtype = int) #Multidimensional array de data tipi belirtme"
      ],
      "metadata": {
        "colab": {
          "base_uri": "https://localhost:8080/"
        },
        "id": "NAgu6Wk6N2zh",
        "outputId": "e2f2c2b3-3e05-4bd6-d3af-871f1f79a4d4"
      },
      "execution_count": null,
      "outputs": [
        {
          "output_type": "execute_result",
          "data": {
            "text/plain": [
              "array([[0, 0]])"
            ]
          },
          "metadata": {},
          "execution_count": 100
        }
      ]
    },
    {
      "cell_type": "code",
      "source": [
        "# four-dimensional NumPy array (tensor) filled with zeros\n",
        "# 2 blocks, where each block contains 4 rows, 4 columns, and 5 elements in the innermost dimension\n",
        "x=np.zeros([2,4,4,5])\n",
        "x"
      ],
      "metadata": {
        "colab": {
          "base_uri": "https://localhost:8080/"
        },
        "id": "36jxBllkOZtF",
        "outputId": "a5292cd6-ac04-4d5e-88d7-c30a004347c2"
      },
      "execution_count": null,
      "outputs": [
        {
          "output_type": "execute_result",
          "data": {
            "text/plain": [
              "array([[[[0., 0., 0., 0., 0.],\n",
              "         [0., 0., 0., 0., 0.],\n",
              "         [0., 0., 0., 0., 0.],\n",
              "         [0., 0., 0., 0., 0.]],\n",
              "\n",
              "        [[0., 0., 0., 0., 0.],\n",
              "         [0., 0., 0., 0., 0.],\n",
              "         [0., 0., 0., 0., 0.],\n",
              "         [0., 0., 0., 0., 0.]],\n",
              "\n",
              "        [[0., 0., 0., 0., 0.],\n",
              "         [0., 0., 0., 0., 0.],\n",
              "         [0., 0., 0., 0., 0.],\n",
              "         [0., 0., 0., 0., 0.]],\n",
              "\n",
              "        [[0., 0., 0., 0., 0.],\n",
              "         [0., 0., 0., 0., 0.],\n",
              "         [0., 0., 0., 0., 0.],\n",
              "         [0., 0., 0., 0., 0.]]],\n",
              "\n",
              "\n",
              "       [[[0., 0., 0., 0., 0.],\n",
              "         [0., 0., 0., 0., 0.],\n",
              "         [0., 0., 0., 0., 0.],\n",
              "         [0., 0., 0., 0., 0.]],\n",
              "\n",
              "        [[0., 0., 0., 0., 0.],\n",
              "         [0., 0., 0., 0., 0.],\n",
              "         [0., 0., 0., 0., 0.],\n",
              "         [0., 0., 0., 0., 0.]],\n",
              "\n",
              "        [[0., 0., 0., 0., 0.],\n",
              "         [0., 0., 0., 0., 0.],\n",
              "         [0., 0., 0., 0., 0.],\n",
              "         [0., 0., 0., 0., 0.]],\n",
              "\n",
              "        [[0., 0., 0., 0., 0.],\n",
              "         [0., 0., 0., 0., 0.],\n",
              "         [0., 0., 0., 0., 0.],\n",
              "         [0., 0., 0., 0., 0.]]]])"
            ]
          },
          "metadata": {},
          "execution_count": 105
        }
      ]
    },
    {
      "cell_type": "markdown",
      "metadata": {
        "id": "Y1YrsocLVr8i"
      },
      "source": [
        "## array bilgilerine erişme"
      ]
    },
    {
      "cell_type": "code",
      "source": [
        "c.shape #boyutuna erişme"
      ],
      "metadata": {
        "colab": {
          "base_uri": "https://localhost:8080/"
        },
        "id": "g6LbZJDLJWAz",
        "outputId": "f73477cb-4b0a-4560-9045-cbc31a76c226"
      },
      "execution_count": null,
      "outputs": [
        {
          "output_type": "execute_result",
          "data": {
            "text/plain": [
              "(10,)"
            ]
          },
          "metadata": {},
          "execution_count": 31
        }
      ]
    },
    {
      "cell_type": "code",
      "source": [
        "c.ndim"
      ],
      "metadata": {
        "colab": {
          "base_uri": "https://localhost:8080/"
        },
        "id": "95vMBYIpF4kN",
        "outputId": "6ab1f60e-28ae-470f-e6b7-14cc9dc8af65"
      },
      "execution_count": null,
      "outputs": [
        {
          "output_type": "execute_result",
          "data": {
            "text/plain": [
              "1"
            ]
          },
          "metadata": {},
          "execution_count": 32
        }
      ]
    },
    {
      "cell_type": "code",
      "source": [
        "a.shape"
      ],
      "metadata": {
        "colab": {
          "base_uri": "https://localhost:8080/"
        },
        "id": "2xpvFOj9JJUE",
        "outputId": "3238be2e-3be6-46e4-eeb1-79c27e78f406"
      },
      "execution_count": null,
      "outputs": [
        {
          "output_type": "execute_result",
          "data": {
            "text/plain": [
              "(3, 5)"
            ]
          },
          "metadata": {},
          "execution_count": 33
        }
      ]
    },
    {
      "cell_type": "code",
      "source": [
        "a.ndim"
      ],
      "metadata": {
        "colab": {
          "base_uri": "https://localhost:8080/"
        },
        "id": "WqSjclhMF8b3",
        "outputId": "f3f3928a-88b9-4bdd-b632-4f72f8b6286f"
      },
      "execution_count": null,
      "outputs": [
        {
          "output_type": "execute_result",
          "data": {
            "text/plain": [
              "2"
            ]
          },
          "metadata": {},
          "execution_count": 34
        }
      ]
    },
    {
      "cell_type": "code",
      "execution_count": null,
      "metadata": {
        "id": "QuwkzbbBVr8j",
        "outputId": "3c952d56-39b7-4709-925f-fd0ee59f6ba2",
        "colab": {
          "base_uri": "https://localhost:8080/"
        }
      },
      "outputs": [
        {
          "output_type": "execute_result",
          "data": {
            "text/plain": [
              "(3, 5)"
            ]
          },
          "metadata": {},
          "execution_count": 35
        }
      ],
      "source": [
        "x.shape"
      ]
    },
    {
      "cell_type": "code",
      "execution_count": null,
      "metadata": {
        "id": "cUFMaLdCVr8k",
        "outputId": "ffaa459c-99ee-4169-d8b6-37e140c8534f",
        "colab": {
          "base_uri": "https://localhost:8080/"
        }
      },
      "outputs": [
        {
          "output_type": "execute_result",
          "data": {
            "text/plain": [
              "(4, 5, 7)"
            ]
          },
          "metadata": {},
          "execution_count": 36
        }
      ],
      "source": [
        "y.shape"
      ]
    },
    {
      "cell_type": "code",
      "source": [
        "c.ndim"
      ],
      "metadata": {
        "colab": {
          "base_uri": "https://localhost:8080/"
        },
        "id": "-WsxNgd9Jj6N",
        "outputId": "e37491ca-adb4-45ee-d379-32bbe8e440ab"
      },
      "execution_count": null,
      "outputs": [
        {
          "output_type": "execute_result",
          "data": {
            "text/plain": [
              "1"
            ]
          },
          "metadata": {},
          "execution_count": 37
        }
      ]
    },
    {
      "cell_type": "code",
      "source": [
        "a.ndim"
      ],
      "metadata": {
        "colab": {
          "base_uri": "https://localhost:8080/"
        },
        "id": "U7HOGINQJEtk",
        "outputId": "4ba2046b-fd29-469b-fa74-22f98bdd6e1d"
      },
      "execution_count": null,
      "outputs": [
        {
          "output_type": "execute_result",
          "data": {
            "text/plain": [
              "2"
            ]
          },
          "metadata": {},
          "execution_count": 38
        }
      ]
    },
    {
      "cell_type": "code",
      "execution_count": null,
      "metadata": {
        "id": "fXhjoKq0Vr8l",
        "outputId": "98c76f47-a1a3-43cd-b904-cf58ea294e3a",
        "colab": {
          "base_uri": "https://localhost:8080/"
        }
      },
      "outputs": [
        {
          "output_type": "execute_result",
          "data": {
            "text/plain": [
              "2"
            ]
          },
          "metadata": {},
          "execution_count": 39
        }
      ],
      "source": [
        "#boyut\n",
        "x.ndim"
      ]
    },
    {
      "cell_type": "code",
      "execution_count": null,
      "metadata": {
        "id": "i2_jy_UiVr8n",
        "outputId": "6ec1585b-45b4-4a2f-8601-c323e8618235",
        "colab": {
          "base_uri": "https://localhost:8080/"
        }
      },
      "outputs": [
        {
          "output_type": "execute_result",
          "data": {
            "text/plain": [
              "3"
            ]
          },
          "metadata": {},
          "execution_count": 40
        }
      ],
      "source": [
        "#boyut\n",
        "y.ndim"
      ]
    },
    {
      "cell_type": "code",
      "execution_count": null,
      "metadata": {
        "id": "mzhQBQdQVr8o",
        "outputId": "1423c350-abec-4be6-d359-fedde438c735",
        "colab": {
          "base_uri": "https://localhost:8080/"
        }
      },
      "outputs": [
        {
          "output_type": "execute_result",
          "data": {
            "text/plain": [
              "15"
            ]
          },
          "metadata": {},
          "execution_count": 41
        }
      ],
      "source": [
        "#array içindeki eleman (3*5)\n",
        "x.size"
      ]
    },
    {
      "cell_type": "code",
      "execution_count": null,
      "metadata": {
        "id": "Ht93pTOjVr8p",
        "outputId": "c26aeced-6521-4258-cb40-19948b557505",
        "colab": {
          "base_uri": "https://localhost:8080/"
        }
      },
      "outputs": [
        {
          "output_type": "execute_result",
          "data": {
            "text/plain": [
              "140"
            ]
          },
          "metadata": {},
          "execution_count": 42
        }
      ],
      "source": [
        "# 4*5*7\n",
        "y.size\n"
      ]
    },
    {
      "cell_type": "markdown",
      "metadata": {
        "id": "PEdgBlfCVr8q"
      },
      "source": [
        "## Belirtilen bir elemandan array oluşturma : **np.full()**"
      ]
    },
    {
      "cell_type": "code",
      "execution_count": null,
      "metadata": {
        "id": "Hko10vstVr8r",
        "outputId": "88842eef-b030-4700-ee55-5bcdefc02745",
        "colab": {
          "base_uri": "https://localhost:8080/"
        }
      },
      "outputs": [
        {
          "output_type": "execute_result",
          "data": {
            "text/plain": [
              "array([[7, 7, 7, 7, 7],\n",
              "       [7, 7, 7, 7, 7],\n",
              "       [7, 7, 7, 7, 7]])"
            ]
          },
          "metadata": {},
          "execution_count": 43
        }
      ],
      "source": [
        "# 3x5 lik elemanları 7 olan array\n",
        "np.full((3,5),7)"
      ]
    },
    {
      "cell_type": "code",
      "execution_count": null,
      "metadata": {
        "id": "lNeG4fTWVr8s",
        "outputId": "1927947a-56ac-4248-b8c8-35ee6ed585a2",
        "colab": {
          "base_uri": "https://localhost:8080/"
        }
      },
      "outputs": [
        {
          "output_type": "execute_result",
          "data": {
            "text/plain": [
              "array([[7, 7, 7, 7, 7],\n",
              "       [7, 7, 7, 7, 7],\n",
              "       [7, 7, 7, 7, 7]], dtype=int32)"
            ]
          },
          "metadata": {},
          "execution_count": 44
        }
      ],
      "source": [
        "np.full((3,5),7, dtype=\"int32\")"
      ]
    },
    {
      "cell_type": "code",
      "execution_count": null,
      "metadata": {
        "id": "4eMfl18fVr8u",
        "outputId": "a1b56e82-620a-4b3b-bda9-6c2689a593ee",
        "colab": {
          "base_uri": "https://localhost:8080/"
        }
      },
      "outputs": [
        {
          "output_type": "execute_result",
          "data": {
            "text/plain": [
              "array([['m', 'm', 'm', 'm', 'm'],\n",
              "       ['m', 'm', 'm', 'm', 'm'],\n",
              "       ['m', 'm', 'm', 'm', 'm']], dtype='<U1')"
            ]
          },
          "metadata": {},
          "execution_count": 45
        }
      ],
      "source": [
        "np.full((3,5),\"m\")"
      ]
    },
    {
      "cell_type": "code",
      "source": [
        "np.full((4,5), 5.6, dtype= \"str\") #5.2 önce integar a cast oluyor sonra string şeklinde dönüştürülüyor"
      ],
      "metadata": {
        "colab": {
          "base_uri": "https://localhost:8080/"
        },
        "id": "jklanBjDRGtI",
        "outputId": "2c5498f2-0fb3-4136-c881-08a7300c8dcd"
      },
      "execution_count": null,
      "outputs": [
        {
          "output_type": "execute_result",
          "data": {
            "text/plain": [
              "array([['5', '5', '5', '5', '5'],\n",
              "       ['5', '5', '5', '5', '5'],\n",
              "       ['5', '5', '5', '5', '5'],\n",
              "       ['5', '5', '5', '5', '5']], dtype='<U1')"
            ]
          },
          "metadata": {},
          "execution_count": 108
        }
      ]
    },
    {
      "cell_type": "code",
      "source": [
        "np.full((4,5),\"5.2\")"
      ],
      "metadata": {
        "colab": {
          "base_uri": "https://localhost:8080/"
        },
        "id": "TQ-qWhf0RxpF",
        "outputId": "7ccd4d88-175e-4864-d0fb-6d270e2a6f60"
      },
      "execution_count": null,
      "outputs": [
        {
          "output_type": "execute_result",
          "data": {
            "text/plain": [
              "array([['5.2', '5.2', '5.2', '5.2', '5.2'],\n",
              "       ['5.2', '5.2', '5.2', '5.2', '5.2'],\n",
              "       ['5.2', '5.2', '5.2', '5.2', '5.2'],\n",
              "       ['5.2', '5.2', '5.2', '5.2', '5.2']], dtype='<U3')"
            ]
          },
          "metadata": {},
          "execution_count": 109
        }
      ]
    },
    {
      "cell_type": "code",
      "source": [
        "np.full(2,3) # 1-dimensional array with 2 elements, each filled with the value 3."
      ],
      "metadata": {
        "colab": {
          "base_uri": "https://localhost:8080/"
        },
        "id": "JrxJc39xSEnr",
        "outputId": "8b1cb3c2-7add-453c-f3e9-65438e193b01"
      },
      "execution_count": null,
      "outputs": [
        {
          "output_type": "execute_result",
          "data": {
            "text/plain": [
              "array([3, 3])"
            ]
          },
          "metadata": {},
          "execution_count": 110
        }
      ]
    },
    {
      "cell_type": "markdown",
      "metadata": {
        "id": "1oHnOZKVVr9E"
      },
      "source": [
        "## Ardışık Sayılardan Array Oluşturmak: **np.arange()**"
      ]
    },
    {
      "cell_type": "code",
      "execution_count": null,
      "metadata": {
        "id": "IwO1yynPVr9G",
        "outputId": "df4650c0-34b5-4719-9f6c-c6a8b408bb23",
        "colab": {
          "base_uri": "https://localhost:8080/"
        }
      },
      "outputs": [
        {
          "output_type": "execute_result",
          "data": {
            "text/plain": [
              "array([ 0,  1,  2,  3,  4,  5,  6,  7,  8,  9, 10, 11])"
            ]
          },
          "metadata": {},
          "execution_count": 7
        }
      ],
      "source": [
        "np.arange(0,12)"
      ]
    },
    {
      "cell_type": "code",
      "execution_count": null,
      "metadata": {
        "id": "cYTHxFsqVr9H",
        "outputId": "7d3b6dde-4ec1-4b84-f27b-16919d05e757",
        "colab": {
          "base_uri": "https://localhost:8080/"
        }
      },
      "outputs": [
        {
          "output_type": "execute_result",
          "data": {
            "text/plain": [
              "array([ 0,  2,  4,  6,  8, 10, 12])"
            ]
          },
          "metadata": {},
          "execution_count": 8
        }
      ],
      "source": [
        "np.arange(0,14,2) # 2 atlamalı şekilde 14'e kadar array oluşturdu"
      ]
    },
    {
      "cell_type": "code",
      "source": [
        "np.arange(2,12,-2) # 2 den 12 ye -2 gidemez bu yüzden boş array"
      ],
      "metadata": {
        "colab": {
          "base_uri": "https://localhost:8080/"
        },
        "id": "4cXeINh5DUNv",
        "outputId": "2bc02370-485d-4ae3-ce73-a76d0dc3797f"
      },
      "execution_count": null,
      "outputs": [
        {
          "output_type": "execute_result",
          "data": {
            "text/plain": [
              "array([], dtype=int64)"
            ]
          },
          "metadata": {},
          "execution_count": 10
        }
      ]
    },
    {
      "cell_type": "markdown",
      "metadata": {
        "id": "k0OXcQM4Vr9J"
      },
      "source": [
        "## Aralığı Eşit Uzaklıktaki Noktalara Bölerek Array Oluşturma: **np.linespace()**"
      ]
    },
    {
      "cell_type": "markdown",
      "metadata": {
        "id": "pwOPNhAdVr9K"
      },
      "source": [
        "Verilen başlangıç ve bitiş noktasına göre, başlangıç ve bitiş noktası da dahil aradaki sayıları eşit uzaklıkta olacak şekilde yazarak oluşturur."
      ]
    },
    {
      "cell_type": "code",
      "execution_count": null,
      "metadata": {
        "id": "feaxe0orVr9L",
        "outputId": "b18f1d93-654a-4ad2-d245-27427386b1c8",
        "colab": {
          "base_uri": "https://localhost:8080/"
        }
      },
      "outputs": [
        {
          "output_type": "execute_result",
          "data": {
            "text/plain": [
              "array([1.        , 1.02040816, 1.04081633, 1.06122449, 1.08163265,\n",
              "       1.10204082, 1.12244898, 1.14285714, 1.16326531, 1.18367347,\n",
              "       1.20408163, 1.2244898 , 1.24489796, 1.26530612, 1.28571429,\n",
              "       1.30612245, 1.32653061, 1.34693878, 1.36734694, 1.3877551 ,\n",
              "       1.40816327, 1.42857143, 1.44897959, 1.46938776, 1.48979592,\n",
              "       1.51020408, 1.53061224, 1.55102041, 1.57142857, 1.59183673,\n",
              "       1.6122449 , 1.63265306, 1.65306122, 1.67346939, 1.69387755,\n",
              "       1.71428571, 1.73469388, 1.75510204, 1.7755102 , 1.79591837,\n",
              "       1.81632653, 1.83673469, 1.85714286, 1.87755102, 1.89795918,\n",
              "       1.91836735, 1.93877551, 1.95918367, 1.97959184, 2.        ])"
            ]
          },
          "metadata": {},
          "execution_count": 48
        }
      ],
      "source": [
        "#default olarak aradaki mesafeyi 50 nokta olacak şekilde yazar\n",
        "np.linspace(1,2)"
      ]
    },
    {
      "cell_type": "code",
      "execution_count": null,
      "metadata": {
        "id": "na0wD82VVr9N",
        "outputId": "5943c5a1-ba0a-4ca5-f548-c7f11e2f3a03",
        "colab": {
          "base_uri": "https://localhost:8080/"
        }
      },
      "outputs": [
        {
          "output_type": "execute_result",
          "data": {
            "text/plain": [
              "1"
            ]
          },
          "metadata": {},
          "execution_count": 49
        }
      ],
      "source": [
        "np.linspace(1,2).ndim"
      ]
    },
    {
      "cell_type": "markdown",
      "source": [
        "### Kaç Parçaya Bölüneceğini Belirleme"
      ],
      "metadata": {
        "id": "Ec-mwcjmE-Tw"
      }
    },
    {
      "cell_type": "code",
      "execution_count": null,
      "metadata": {
        "id": "qK3buFViVr9O",
        "outputId": "55d9db7b-91c1-491d-f12d-2c3635851295",
        "colab": {
          "base_uri": "https://localhost:8080/"
        }
      },
      "outputs": [
        {
          "output_type": "execute_result",
          "data": {
            "text/plain": [
              "array([1. , 1.5, 2. ])"
            ]
          },
          "metadata": {},
          "execution_count": 50
        }
      ],
      "source": [
        "#num=3 ile 1-2 arasındaki mesafeyi kendileri dahil 3'e bölüyor.\n",
        "np.linspace(1,2,num=3)"
      ]
    },
    {
      "cell_type": "code",
      "execution_count": null,
      "metadata": {
        "id": "obZYw_I7Vr9Q",
        "colab": {
          "base_uri": "https://localhost:8080/"
        },
        "outputId": "1ecb31ec-19ff-456b-bfa4-1970322c0221"
      },
      "outputs": [
        {
          "output_type": "execute_result",
          "data": {
            "text/plain": [
              "array([1.5 , 2.25, 3.  ])"
            ]
          },
          "metadata": {},
          "execution_count": 11
        }
      ],
      "source": [
        "#np.linespace(start,stop,step) şeklinde gider num diye belirtmesen de olur.\n",
        "np.linspace(1.5,3,3)"
      ]
    },
    {
      "cell_type": "markdown",
      "metadata": {
        "id": "PvgpHIDpVr9R"
      },
      "source": [
        "## Normal Distibution'dan Çekilmiş Değerler ile Array Oluşturma"
      ]
    },
    {
      "cell_type": "markdown",
      "source": [
        " **np.random.normal(mean, std, array shape)**"
      ],
      "metadata": {
        "id": "LDLmUQJNGYYd"
      }
    },
    {
      "cell_type": "code",
      "execution_count": null,
      "metadata": {
        "id": "rXG9QnbWVr9T",
        "outputId": "823bc5ea-42d8-46de-b108-e23d2facbc3f",
        "colab": {
          "base_uri": "https://localhost:8080/"
        }
      },
      "outputs": [
        {
          "output_type": "execute_result",
          "data": {
            "text/plain": [
              "array([[ 0.22753338,  0.61759578, -2.08359809,  0.36115503, -0.28057289],\n",
              "       [-1.45751551,  0.12881301, -0.92069119,  1.71970581,  0.60201386],\n",
              "       [ 0.22370532,  1.24464806, -0.1511746 ,  1.6987345 , -0.60388346]])"
            ]
          },
          "metadata": {},
          "execution_count": 53
        }
      ],
      "source": [
        "np.random.normal(0,1, (3,5)) #0 ortalamalı, standart sapması 1 olacak şekilde (3x5)lik\n",
        "#bir normal dağılıma uygun array oluşturduk"
      ]
    },
    {
      "cell_type": "code",
      "execution_count": null,
      "metadata": {
        "id": "rLar-bZmVr9U",
        "outputId": "723a69dd-ca12-418c-df29-c9bbc0052222",
        "colab": {
          "base_uri": "https://localhost:8080/"
        }
      },
      "outputs": [
        {
          "output_type": "execute_result",
          "data": {
            "text/plain": [
              "array([[   1.34359502,   15.43204244, -119.19738755, -101.18570808,\n",
              "        -207.78771138],\n",
              "       [ 131.24975935,  -30.06219663, -143.52951783,   75.06859769,\n",
              "        -137.99573634],\n",
              "       [-146.83945202, -104.59524868,  133.31050658, -185.80177234,\n",
              "          60.0273064 ]])"
            ]
          },
          "metadata": {},
          "execution_count": 54
        }
      ],
      "source": [
        "np.random.normal(0,100, (3,5))"
      ]
    },
    {
      "cell_type": "markdown",
      "metadata": {
        "id": "ag1GG-bJVr9W"
      },
      "source": [
        "## Random Integer lar ile Array Oluşturmak: **np.random.randint(low, high)**"
      ]
    },
    {
      "cell_type": "code",
      "execution_count": null,
      "metadata": {
        "id": "OFHW6Hf7Vr9Y",
        "outputId": "f7744498-4ba4-4a00-d9d1-3f54d4eb1036",
        "colab": {
          "base_uri": "https://localhost:8080/"
        }
      },
      "outputs": [
        {
          "output_type": "execute_result",
          "data": {
            "text/plain": [
              "array([[11,  1,  1,  4, 10],\n",
              "       [ 5,  9,  5,  8,  7],\n",
              "       [ 5,  2, 12, 14,  9]])"
            ]
          },
          "metadata": {},
          "execution_count": 56
        }
      ],
      "source": [
        "# np.random.randint(low,high)\n",
        "# 15 dahil değil\n",
        "# uniform distribution kullanılarak seçim yapılıyor\n",
        "\n",
        "np.random.randint(1,15,(3,5))"
      ]
    },
    {
      "cell_type": "code",
      "execution_count": null,
      "metadata": {
        "id": "UMUHPWFgVr9Z",
        "outputId": "1e5a28c5-72e5-45d9-ea5e-787eb0eaf2f7",
        "colab": {
          "base_uri": "https://localhost:8080/"
        }
      },
      "outputs": [
        {
          "output_type": "execute_result",
          "data": {
            "text/plain": [
              "array([[12,  8,  5,  7, 12],\n",
              "       [ 9, 12,  9, 13, 11],\n",
              "       [ 7, 14,  8,  9, 11]])"
            ]
          },
          "metadata": {},
          "execution_count": 57
        }
      ],
      "source": [
        "\n",
        "np.random.randint(5,15,(3,5))"
      ]
    },
    {
      "cell_type": "code",
      "source": [
        "np.random.randint(1,10,(3,5,4)) # 3 tane 5 x 4 lük 1 den 10 a kadar sayılarla"
      ],
      "metadata": {
        "colab": {
          "base_uri": "https://localhost:8080/"
        },
        "id": "spVSsuDLIGsG",
        "outputId": "33979359-62e7-496a-c40c-babef4490161"
      },
      "execution_count": null,
      "outputs": [
        {
          "output_type": "execute_result",
          "data": {
            "text/plain": [
              "array([[[3, 3, 1, 5],\n",
              "        [3, 3, 8, 9],\n",
              "        [2, 3, 2, 6],\n",
              "        [9, 6, 1, 7],\n",
              "        [5, 6, 3, 4]],\n",
              "\n",
              "       [[9, 7, 2, 8],\n",
              "        [1, 1, 7, 5],\n",
              "        [9, 4, 4, 9],\n",
              "        [7, 3, 1, 9],\n",
              "        [2, 1, 3, 9]],\n",
              "\n",
              "       [[7, 4, 2, 7],\n",
              "        [6, 8, 5, 4],\n",
              "        [1, 2, 4, 1],\n",
              "        [2, 1, 5, 2],\n",
              "        [7, 9, 1, 1]]])"
            ]
          },
          "metadata": {},
          "execution_count": 13
        }
      ]
    },
    {
      "cell_type": "code",
      "source": [
        "np.random.randint(1,10) #random olarak sayı üretme"
      ],
      "metadata": {
        "colab": {
          "base_uri": "https://localhost:8080/"
        },
        "id": "FCS-0VfvImEF",
        "outputId": "b9e6902e-fa7b-4ab5-9959-b4e3820b532f"
      },
      "execution_count": null,
      "outputs": [
        {
          "output_type": "execute_result",
          "data": {
            "text/plain": [
              "1"
            ]
          },
          "metadata": {},
          "execution_count": 15
        }
      ]
    },
    {
      "cell_type": "code",
      "source": [
        " #how to generate random integers and count their occurrences\n",
        "d = {} #to store the counts of each generated random integer.\n",
        "\n",
        "for _ in range(2000):\n",
        "  val =  np.random.randint(1,11)\n",
        "\n",
        "  if val not in d:\n",
        "    d[val] = 1\n",
        "  else:\n",
        "    d[val] += 1\n",
        "\n",
        "print(d)\n"
      ],
      "metadata": {
        "colab": {
          "base_uri": "https://localhost:8080/"
        },
        "id": "xzYDyVp6MQqa",
        "outputId": "f44b2520-df7c-4c63-db76-e0499ed63cb1"
      },
      "execution_count": null,
      "outputs": [
        {
          "output_type": "stream",
          "name": "stdout",
          "text": [
            "{5: 212, 4: 202, 7: 200, 2: 200, 6: 197, 8: 184, 10: 200, 3: 213, 1: 186, 9: 206}\n"
          ]
        }
      ]
    },
    {
      "cell_type": "markdown",
      "source": [
        "##Identity (Birim) Matrix : **np.eye()**"
      ],
      "metadata": {
        "id": "KO_iHTktN-Bq"
      }
    },
    {
      "cell_type": "markdown",
      "source": [
        "Identity Matrix ile başka matrixi çarınca aynı matrix olur."
      ],
      "metadata": {
        "id": "UwTzX2hPOdcS"
      }
    },
    {
      "cell_type": "code",
      "execution_count": null,
      "metadata": {
        "id": "XsX1mcOpVr9a",
        "outputId": "f1f8fa8d-687e-4fd1-d201-050fe2c725d1",
        "colab": {
          "base_uri": "https://localhost:8080/"
        }
      },
      "outputs": [
        {
          "output_type": "execute_result",
          "data": {
            "text/plain": [
              "array([[1., 0., 0., 0.],\n",
              "       [0., 1., 0., 0.],\n",
              "       [0., 0., 1., 0.],\n",
              "       [0., 0., 0., 1.]])"
            ]
          },
          "metadata": {},
          "execution_count": 58
        }
      ],
      "source": [
        "# birim array yaratma (köşegenleri 1 olan diğer elemanları 0 olan array)\n",
        "np.eye(4,4)"
      ]
    },
    {
      "cell_type": "code",
      "execution_count": null,
      "metadata": {
        "id": "4FWUMLlJVr9b",
        "outputId": "ecc5a5e9-c4f5-49a0-a15f-533faa1398d3",
        "colab": {
          "base_uri": "https://localhost:8080/"
        }
      },
      "outputs": [
        {
          "output_type": "execute_result",
          "data": {
            "text/plain": [
              "array([[1., 0., 0., 0.],\n",
              "       [0., 1., 0., 0.],\n",
              "       [0., 0., 1., 0.]])"
            ]
          },
          "metadata": {},
          "execution_count": 59
        }
      ],
      "source": [
        "np.eye(3,4)"
      ]
    },
    {
      "cell_type": "markdown",
      "metadata": {
        "id": "jYnFz0UUVr9c"
      },
      "source": [
        "# Array Matematiksel İşlemler"
      ]
    },
    {
      "cell_type": "code",
      "source": [
        "#list ile integer çarpma işlemi concatenation olur. Consecutive concatenation\n",
        "[2,3,4] * 3"
      ],
      "metadata": {
        "id": "t4VnyDyVrktc"
      },
      "execution_count": null,
      "outputs": []
    },
    {
      "cell_type": "code",
      "source": [
        "#note: listede toplama işlemi tanımlı değil\n",
        "[1,2,3] + [4,5,6]"
      ],
      "metadata": {
        "id": "jS9b1iMYrpaL"
      },
      "execution_count": null,
      "outputs": []
    },
    {
      "cell_type": "code",
      "source": [
        "#list ile list çarpımı olmaz\n",
        "[2,3,4] * [2,3,4]"
      ],
      "metadata": {
        "id": "Bf0U0w6kruEr"
      },
      "execution_count": null,
      "outputs": []
    },
    {
      "cell_type": "code",
      "execution_count": null,
      "metadata": {
        "id": "tc0E57ydVr9f"
      },
      "outputs": [],
      "source": [
        "x= np.array([1,2,3])\n",
        "y= np.array([4,5,6])"
      ]
    },
    {
      "cell_type": "code",
      "source": [
        "x"
      ],
      "metadata": {
        "colab": {
          "base_uri": "https://localhost:8080/"
        },
        "id": "puHzIFBLLecr",
        "outputId": "0641d30a-9154-4bf5-9e78-6f7c273b51e1"
      },
      "execution_count": null,
      "outputs": [
        {
          "output_type": "execute_result",
          "data": {
            "text/plain": [
              "array([1, 2, 3])"
            ]
          },
          "metadata": {},
          "execution_count": 61
        }
      ]
    },
    {
      "cell_type": "code",
      "source": [
        "x * 2 #x in her elemanı 2 ile çarpılır"
      ],
      "metadata": {
        "colab": {
          "base_uri": "https://localhost:8080/"
        },
        "id": "Pg5fQD2FsTpM",
        "outputId": "89b1d8c7-a0df-45d5-cc94-ca3afc04346b"
      },
      "execution_count": null,
      "outputs": [
        {
          "output_type": "execute_result",
          "data": {
            "text/plain": [
              "array([2, 4, 6])"
            ]
          },
          "metadata": {},
          "execution_count": 22
        }
      ]
    },
    {
      "cell_type": "code",
      "execution_count": null,
      "metadata": {
        "id": "FTRkJze8Vr9f",
        "outputId": "765bb1be-fa0f-4932-effe-2305ac88811a",
        "colab": {
          "base_uri": "https://localhost:8080/"
        }
      },
      "outputs": [
        {
          "output_type": "execute_result",
          "data": {
            "text/plain": [
              "array([ 4, 10, 18])"
            ]
          },
          "metadata": {},
          "execution_count": 19
        }
      ],
      "source": [
        "x*y # numpy array leri elementwise çarpım yapar"
      ]
    },
    {
      "cell_type": "code",
      "execution_count": null,
      "metadata": {
        "id": "azE6bwXWVr9g",
        "outputId": "5bfd12d6-ce9b-4afc-dd8b-db08142a8fee",
        "colab": {
          "base_uri": "https://localhost:8080/"
        }
      },
      "outputs": [
        {
          "output_type": "execute_result",
          "data": {
            "text/plain": [
              "array([5, 7, 9])"
            ]
          },
          "metadata": {},
          "execution_count": 63
        }
      ],
      "source": [
        "x+y # numpy arrayleri elementwise toplama yapar"
      ]
    },
    {
      "cell_type": "code",
      "execution_count": null,
      "metadata": {
        "id": "Nsxj2YL2Vr9i",
        "outputId": "c9619b2d-696c-4121-cf18-cbcd8cabfbf9",
        "colab": {
          "base_uri": "https://localhost:8080/"
        }
      },
      "outputs": [
        {
          "output_type": "stream",
          "name": "stdout",
          "text": [
            "[5 7 9]\n"
          ]
        }
      ],
      "source": [
        "print(x+y)"
      ]
    },
    {
      "cell_type": "code",
      "execution_count": null,
      "metadata": {
        "id": "7wnrfhXXVr9j",
        "outputId": "a4d4eae4-a315-4af3-f6db-b116b2b7cd02",
        "colab": {
          "base_uri": "https://localhost:8080/",
          "height": 176
        }
      },
      "outputs": [
        {
          "output_type": "error",
          "ename": "ValueError",
          "evalue": "operands could not be broadcast together with shapes (3,) (4,) ",
          "traceback": [
            "\u001b[0;31m---------------------------------------------------------------------------\u001b[0m",
            "\u001b[0;31mValueError\u001b[0m                                Traceback (most recent call last)",
            "\u001b[0;32m/tmp/ipython-input-1778082539.py\u001b[0m in \u001b[0;36m<cell line: 0>\u001b[0;34m()\u001b[0m\n\u001b[1;32m      2\u001b[0m \u001b[0my\u001b[0m\u001b[0;34m=\u001b[0m \u001b[0mnp\u001b[0m\u001b[0;34m.\u001b[0m\u001b[0marray\u001b[0m\u001b[0;34m(\u001b[0m\u001b[0;34m[\u001b[0m\u001b[0;36m4\u001b[0m\u001b[0;34m,\u001b[0m\u001b[0;36m5\u001b[0m\u001b[0;34m,\u001b[0m\u001b[0;36m6\u001b[0m\u001b[0;34m,\u001b[0m\u001b[0;36m8\u001b[0m\u001b[0;34m]\u001b[0m\u001b[0;34m)\u001b[0m\u001b[0;34m\u001b[0m\u001b[0;34m\u001b[0m\u001b[0m\n\u001b[1;32m      3\u001b[0m \u001b[0;34m\u001b[0m\u001b[0m\n\u001b[0;32m----> 4\u001b[0;31m \u001b[0mx\u001b[0m\u001b[0;34m*\u001b[0m\u001b[0my\u001b[0m  \u001b[0;31m#(arraylar birbirine denk olmadığı için hata aldık)\u001b[0m\u001b[0;34m\u001b[0m\u001b[0;34m\u001b[0m\u001b[0m\n\u001b[0m",
            "\u001b[0;31mValueError\u001b[0m: operands could not be broadcast together with shapes (3,) (4,) "
          ]
        }
      ],
      "source": [
        "x= np.array([1,2,3])\n",
        "y= np.array([4,5,6,8])\n",
        "\n",
        "x*y  #(arraylar birbirine denk olmadığı için hata aldık)"
      ]
    },
    {
      "cell_type": "code",
      "execution_count": null,
      "metadata": {
        "id": "5QR4BbKNVr9m",
        "outputId": "6daf24f3-f832-4b28-8b4a-c5c240f80de7",
        "colab": {
          "base_uri": "https://localhost:8080/"
        }
      },
      "outputs": [
        {
          "output_type": "execute_result",
          "data": {
            "text/plain": [
              "array([[1, 2, 3],\n",
              "       [4, 5, 6]])"
            ]
          },
          "metadata": {},
          "execution_count": 67
        }
      ],
      "source": [
        "a= np.array([    [1,2,3],[4,5,6]      ])\n",
        "a"
      ]
    },
    {
      "cell_type": "code",
      "source": [
        "a"
      ],
      "metadata": {
        "colab": {
          "base_uri": "https://localhost:8080/"
        },
        "id": "1dAeH4rUL8bC",
        "outputId": "a6ff63b1-5cf2-4e41-bd6b-a0013df2c350"
      },
      "execution_count": null,
      "outputs": [
        {
          "output_type": "execute_result",
          "data": {
            "text/plain": [
              "array([[1, 2, 3],\n",
              "       [4, 5, 6]])"
            ]
          },
          "metadata": {},
          "execution_count": 68
        }
      ]
    },
    {
      "cell_type": "code",
      "execution_count": null,
      "metadata": {
        "id": "_HJsAdLuVr9p",
        "outputId": "55c08b98-7654-4b97-e5ee-0683c46e496e",
        "colab": {
          "base_uri": "https://localhost:8080/"
        }
      },
      "outputs": [
        {
          "output_type": "execute_result",
          "data": {
            "text/plain": [
              "array([[ 1,  4,  9],\n",
              "       [16, 25, 36]])"
            ]
          },
          "metadata": {},
          "execution_count": 71
        }
      ],
      "source": [
        "a*a"
      ]
    },
    {
      "cell_type": "code",
      "execution_count": null,
      "metadata": {
        "id": "4xWCXxw1Vr9q",
        "outputId": "dd95a22d-46dc-448a-95d8-7bcfb80dec26",
        "colab": {
          "base_uri": "https://localhost:8080/"
        }
      },
      "outputs": [
        {
          "output_type": "execute_result",
          "data": {
            "text/plain": [
              "array([[ 2,  4,  6],\n",
              "       [ 8, 10, 12]])"
            ]
          },
          "metadata": {},
          "execution_count": 72
        }
      ],
      "source": [
        "a+a"
      ]
    },
    {
      "cell_type": "code",
      "execution_count": null,
      "metadata": {
        "id": "ItubDOtRVr9s",
        "outputId": "e5fc1c22-60db-4b45-b198-b9d7763fd7c9",
        "colab": {
          "base_uri": "https://localhost:8080/"
        }
      },
      "outputs": [
        {
          "output_type": "execute_result",
          "data": {
            "text/plain": [
              "array([[1., 1., 1.],\n",
              "       [1., 1., 1.]])"
            ]
          },
          "metadata": {},
          "execution_count": 73
        }
      ],
      "source": [
        "a/a"
      ]
    },
    {
      "cell_type": "code",
      "execution_count": null,
      "metadata": {
        "id": "y0wr9RL0Vr9t",
        "outputId": "917c743a-e3d7-4960-facc-3ff235f84a26",
        "colab": {
          "base_uri": "https://localhost:8080/"
        }
      },
      "outputs": [
        {
          "output_type": "execute_result",
          "data": {
            "text/plain": [
              "array([[ 3,  6,  9],\n",
              "       [12, 15, 18]])"
            ]
          },
          "metadata": {},
          "execution_count": 74
        }
      ],
      "source": [
        "a*3"
      ]
    },
    {
      "cell_type": "code",
      "execution_count": null,
      "metadata": {
        "id": "T6vZXOpiVr9v",
        "outputId": "2230614f-6a32-4671-cc7d-c06af3e136df",
        "colab": {
          "base_uri": "https://localhost:8080/"
        }
      },
      "outputs": [
        {
          "output_type": "execute_result",
          "data": {
            "text/plain": [
              "array([[ 6,  7,  8],\n",
              "       [ 9, 10, 11]])"
            ]
          },
          "metadata": {},
          "execution_count": 75
        }
      ],
      "source": [
        "a+5"
      ]
    },
    {
      "cell_type": "code",
      "execution_count": null,
      "metadata": {
        "id": "5Ap2U-JWVr9o",
        "outputId": "6d902c3e-562e-4a1f-ada6-3eac0c9c4b94",
        "colab": {
          "base_uri": "https://localhost:8080/"
        }
      },
      "outputs": [
        {
          "output_type": "execute_result",
          "data": {
            "text/plain": [
              "(2, 3)"
            ]
          },
          "metadata": {},
          "execution_count": 70
        }
      ],
      "source": [
        "a.shape"
      ]
    },
    {
      "cell_type": "code",
      "source": [
        "#matris gibi çarpım yapar. (dot) (shapelerin aynı olmasına gerek yoktur)\n",
        "\n",
        "a1 = np.array([[1,2],\n",
        "               [2,0],\n",
        "               [3,1]])\n",
        "\n",
        "a2 = np.array ([[4,3],\n",
        "                [1,2]])\n",
        "\n",
        "print(np.dot(a1,a2))\n"
      ],
      "metadata": {
        "id": "tO4wzWVWwMjE"
      },
      "execution_count": null,
      "outputs": []
    },
    {
      "cell_type": "markdown",
      "source": [
        "##Array Attributes"
      ],
      "metadata": {
        "id": "Hrf7IcOYtMXp"
      }
    },
    {
      "cell_type": "markdown",
      "source": [
        "###**shape**: array in dimensionları verir"
      ],
      "metadata": {
        "id": "bjCJdV4YtRha"
      }
    },
    {
      "cell_type": "code",
      "source": [
        "x1 = np.zeros((3,5))\n",
        "x1"
      ],
      "metadata": {
        "colab": {
          "base_uri": "https://localhost:8080/"
        },
        "id": "u2Rs9rZ6t3q5",
        "outputId": "80405de3-d644-422b-acff-5245518237bf"
      },
      "execution_count": null,
      "outputs": [
        {
          "output_type": "execute_result",
          "data": {
            "text/plain": [
              "array([[0., 0., 0., 0., 0.],\n",
              "       [0., 0., 0., 0., 0.],\n",
              "       [0., 0., 0., 0., 0.]])"
            ]
          },
          "metadata": {},
          "execution_count": 23
        }
      ]
    },
    {
      "cell_type": "code",
      "source": [
        "x2 = np.zeros((2,3,4))\n",
        "print(x2)"
      ],
      "metadata": {
        "colab": {
          "base_uri": "https://localhost:8080/"
        },
        "id": "JYGjtDN4uJSI",
        "outputId": "b83b3260-f47d-4d48-b247-5d679fa92e24"
      },
      "execution_count": null,
      "outputs": [
        {
          "output_type": "stream",
          "name": "stdout",
          "text": [
            "[[[0. 0. 0. 0.]\n",
            "  [0. 0. 0. 0.]\n",
            "  [0. 0. 0. 0.]]\n",
            "\n",
            " [[0. 0. 0. 0.]\n",
            "  [0. 0. 0. 0.]\n",
            "  [0. 0. 0. 0.]]]\n"
          ]
        }
      ]
    },
    {
      "cell_type": "code",
      "source": [
        "x1.shape\n"
      ],
      "metadata": {
        "colab": {
          "base_uri": "https://localhost:8080/"
        },
        "id": "PAzhDVCouUec",
        "outputId": "28598dd3-71d2-4a39-947c-1b928edfd932"
      },
      "execution_count": null,
      "outputs": [
        {
          "output_type": "execute_result",
          "data": {
            "text/plain": [
              "(3, 5)"
            ]
          },
          "metadata": {},
          "execution_count": 27
        }
      ]
    },
    {
      "cell_type": "code",
      "source": [
        "x2.shape"
      ],
      "metadata": {
        "colab": {
          "base_uri": "https://localhost:8080/"
        },
        "id": "3lHZsOYgudQf",
        "outputId": "79e2df42-e9aa-4969-d949-dd242a6ca730"
      },
      "execution_count": null,
      "outputs": [
        {
          "output_type": "execute_result",
          "data": {
            "text/plain": [
              "(2, 3, 4)"
            ]
          },
          "metadata": {},
          "execution_count": 28
        }
      ]
    },
    {
      "cell_type": "markdown",
      "source": [
        "###**ndim**: array kaç dimension var"
      ],
      "metadata": {
        "id": "Q327SXmPunbD"
      }
    },
    {
      "cell_type": "code",
      "source": [
        "x1.ndim"
      ],
      "metadata": {
        "colab": {
          "base_uri": "https://localhost:8080/"
        },
        "id": "FbfnYo9du9sD",
        "outputId": "85ba3cde-6138-4860-f556-f4c12fe613a1"
      },
      "execution_count": null,
      "outputs": [
        {
          "output_type": "execute_result",
          "data": {
            "text/plain": [
              "2"
            ]
          },
          "metadata": {},
          "execution_count": 29
        }
      ]
    },
    {
      "cell_type": "code",
      "source": [
        "x2.ndim"
      ],
      "metadata": {
        "colab": {
          "base_uri": "https://localhost:8080/"
        },
        "id": "G6_wWaJVvAw5",
        "outputId": "cc8c29f7-51b5-461d-f877-93662eca86cb"
      },
      "execution_count": null,
      "outputs": [
        {
          "output_type": "execute_result",
          "data": {
            "text/plain": [
              "3"
            ]
          },
          "metadata": {},
          "execution_count": 30
        }
      ]
    },
    {
      "cell_type": "code",
      "execution_count": null,
      "metadata": {
        "id": "qskI5Y_FVr9w",
        "outputId": "95d3589f-8ea4-478e-fa75-b1ccf5219392",
        "colab": {
          "base_uri": "https://localhost:8080/"
        }
      },
      "outputs": [
        {
          "output_type": "execute_result",
          "data": {
            "text/plain": [
              "array([[1.        , 1.41421356, 1.73205081],\n",
              "       [2.        , 2.23606798, 2.44948974]])"
            ]
          },
          "metadata": {},
          "execution_count": 76
        }
      ],
      "source": [
        "#her bir değerin karekökünü aldı\n",
        "np.sqrt(a)"
      ]
    },
    {
      "cell_type": "markdown",
      "source": [
        "###**size**: array in boyutunu, kaç elemanlı olduğunu gösterir"
      ],
      "metadata": {
        "id": "hTnhcUxJvFAj"
      }
    },
    {
      "cell_type": "code",
      "source": [
        "x1.size"
      ],
      "metadata": {
        "colab": {
          "base_uri": "https://localhost:8080/"
        },
        "id": "R097D8PAvODw",
        "outputId": "85615cdb-a2a3-4419-e4c8-7bbc44059156"
      },
      "execution_count": null,
      "outputs": [
        {
          "output_type": "execute_result",
          "data": {
            "text/plain": [
              "15"
            ]
          },
          "metadata": {},
          "execution_count": 31
        }
      ]
    },
    {
      "cell_type": "code",
      "source": [
        "x2.size"
      ],
      "metadata": {
        "colab": {
          "base_uri": "https://localhost:8080/"
        },
        "id": "e1KYW0drvRIE",
        "outputId": "83c0bf5d-5b19-40f6-be62-74d537d71293"
      },
      "execution_count": null,
      "outputs": [
        {
          "output_type": "execute_result",
          "data": {
            "text/plain": [
              "24"
            ]
          },
          "metadata": {},
          "execution_count": 32
        }
      ]
    },
    {
      "cell_type": "markdown",
      "source": [
        "###**dtype**: array in veri tipini gösterir"
      ],
      "metadata": {
        "id": "u7WZ-GIgvrO_"
      }
    },
    {
      "cell_type": "code",
      "source": [
        "x1.dtype"
      ],
      "metadata": {
        "colab": {
          "base_uri": "https://localhost:8080/"
        },
        "id": "SzRV1SZIv5X_",
        "outputId": "f53fc6e1-f962-4e5b-b0cf-2300b0301ba6"
      },
      "execution_count": null,
      "outputs": [
        {
          "output_type": "execute_result",
          "data": {
            "text/plain": [
              "dtype('float64')"
            ]
          },
          "metadata": {},
          "execution_count": 33
        }
      ]
    },
    {
      "cell_type": "markdown",
      "metadata": {
        "id": "rblnarktVr9z"
      },
      "source": [
        "## Reshape"
      ]
    },
    {
      "cell_type": "markdown",
      "source": [
        "Önemli olan reshape yapacağımız yapının yaptıktan sonraki yapıyla eleman sayısının (size) aynı olmalı."
      ],
      "metadata": {
        "id": "_TeQY94owhtC"
      }
    },
    {
      "cell_type": "code",
      "execution_count": null,
      "metadata": {
        "id": "F6mLeh0gVr90",
        "outputId": "5da5cf71-8638-42a4-ae0f-a9224b27c5df",
        "colab": {
          "base_uri": "https://localhost:8080/"
        }
      },
      "outputs": [
        {
          "output_type": "execute_result",
          "data": {
            "text/plain": [
              "array([ 1,  2,  3,  4,  5,  6,  7,  8,  9, 10])"
            ]
          },
          "metadata": {},
          "execution_count": 34
        }
      ],
      "source": [
        "m=np.arange(1,11)\n",
        "m"
      ]
    },
    {
      "cell_type": "code",
      "execution_count": null,
      "metadata": {
        "id": "lmhx43I0Vr95",
        "outputId": "2daf306e-26a1-49b4-ef94-9cd9e5213b25",
        "colab": {
          "base_uri": "https://localhost:8080/"
        }
      },
      "outputs": [
        {
          "output_type": "execute_result",
          "data": {
            "text/plain": [
              "array([[ 1,  2,  3,  4,  5],\n",
              "       [ 6,  7,  8,  9, 10]])"
            ]
          },
          "metadata": {},
          "execution_count": 35
        }
      ],
      "source": [
        "new_m = m.reshape(2,5) # 2*5 = 10 olduğundan ve 10=m olduğundan hatasız çalışır\n",
        "new_m"
      ]
    },
    {
      "cell_type": "code",
      "source": [
        "m.ndim"
      ],
      "metadata": {
        "colab": {
          "base_uri": "https://localhost:8080/"
        },
        "id": "TNVyiRynx7jG",
        "outputId": "002fd6be-5ab5-473d-c751-9505d7e44035"
      },
      "execution_count": null,
      "outputs": [
        {
          "output_type": "execute_result",
          "data": {
            "text/plain": [
              "1"
            ]
          },
          "metadata": {},
          "execution_count": 36
        }
      ]
    },
    {
      "cell_type": "code",
      "source": [
        "new_m.ndim #boyut değişimi (reshape) yapıldı"
      ],
      "metadata": {
        "colab": {
          "base_uri": "https://localhost:8080/"
        },
        "id": "1f-QnVRLx9ep",
        "outputId": "9cd91d56-9225-4128-fc0c-783c64d001c0"
      },
      "execution_count": null,
      "outputs": [
        {
          "output_type": "execute_result",
          "data": {
            "text/plain": [
              "2"
            ]
          },
          "metadata": {},
          "execution_count": 37
        }
      ]
    },
    {
      "cell_type": "code",
      "execution_count": null,
      "metadata": {
        "id": "ULDk_G-qVr96",
        "outputId": "ab2e599a-5b23-465a-bd7c-1bb10be7b6bf",
        "colab": {
          "base_uri": "https://localhost:8080/",
          "height": 141
        }
      },
      "outputs": [
        {
          "output_type": "error",
          "ename": "ValueError",
          "evalue": "cannot reshape array of size 10 into shape (3,5)",
          "traceback": [
            "\u001b[0;31m---------------------------------------------------------------------------\u001b[0m",
            "\u001b[0;31mValueError\u001b[0m                                Traceback (most recent call last)",
            "\u001b[0;32m/tmp/ipython-input-129641075.py\u001b[0m in \u001b[0;36m<cell line: 0>\u001b[0;34m()\u001b[0m\n\u001b[0;32m----> 1\u001b[0;31m \u001b[0mm\u001b[0m\u001b[0;34m.\u001b[0m\u001b[0mreshape\u001b[0m\u001b[0;34m(\u001b[0m\u001b[0;36m3\u001b[0m\u001b[0;34m,\u001b[0m\u001b[0;36m5\u001b[0m\u001b[0;34m)\u001b[0m \u001b[0;31m#3*5= 15 olduğundan 15 != m olduğundan hata aldık. Array 1 den 11 e kadar ayarlanmıştı.\u001b[0m\u001b[0;34m\u001b[0m\u001b[0;34m\u001b[0m\u001b[0m\n\u001b[0m",
            "\u001b[0;31mValueError\u001b[0m: cannot reshape array of size 10 into shape (3,5)"
          ]
        }
      ],
      "source": [
        "m.reshape(3,5) #3*5= 15 olduğundan 15 != m olduğundan hata aldık. Array 1 den 11 e kadar ayarlanmıştı."
      ]
    },
    {
      "cell_type": "code",
      "execution_count": null,
      "metadata": {
        "id": "9tTwL9afVr97",
        "outputId": "fd2e63fb-2e18-4a7b-c4a3-df246794a62d",
        "colab": {
          "base_uri": "https://localhost:8080/",
          "height": 158
        }
      },
      "outputs": [
        {
          "output_type": "error",
          "ename": "ValueError",
          "evalue": "cannot reshape array of size 10 into shape (3,4)",
          "traceback": [
            "\u001b[0;31m---------------------------------------------------------------------------\u001b[0m",
            "\u001b[0;31mValueError\u001b[0m                                Traceback (most recent call last)",
            "\u001b[0;32m/tmp/ipython-input-3282602902.py\u001b[0m in \u001b[0;36m<cell line: 0>\u001b[0;34m()\u001b[0m\n\u001b[1;32m      1\u001b[0m \u001b[0;31m# eleman sayısı ile reshape içindeki (satır * sütunun) aynısı olması gerekldiri reshape için\u001b[0m\u001b[0;34m\u001b[0m\u001b[0;34m\u001b[0m\u001b[0m\n\u001b[0;32m----> 2\u001b[0;31m \u001b[0mm\u001b[0m\u001b[0;34m.\u001b[0m\u001b[0mreshape\u001b[0m\u001b[0;34m(\u001b[0m\u001b[0;36m3\u001b[0m\u001b[0;34m,\u001b[0m\u001b[0;36m4\u001b[0m\u001b[0;34m)\u001b[0m\u001b[0;34m\u001b[0m\u001b[0;34m\u001b[0m\u001b[0m\n\u001b[0m",
            "\u001b[0;31mValueError\u001b[0m: cannot reshape array of size 10 into shape (3,4)"
          ]
        }
      ],
      "source": [
        "# eleman sayısı ile reshape içindeki (satır * sütunun) aynısı olması gerekldiri reshape için\n",
        "m.reshape(3,4)"
      ]
    },
    {
      "cell_type": "code",
      "execution_count": null,
      "metadata": {
        "id": "kVx5jLgwVr97",
        "outputId": "54b60412-8fbc-412a-ccbb-b419b3a18fe2",
        "colab": {
          "base_uri": "https://localhost:8080/"
        }
      },
      "outputs": [
        {
          "output_type": "execute_result",
          "data": {
            "text/plain": [
              "array([ 1,  2,  3,  4,  5,  6,  7,  8,  9, 10, 11, 12])"
            ]
          },
          "metadata": {},
          "execution_count": 82
        }
      ],
      "source": [
        "n=np.arange(1,13)\n",
        "n"
      ]
    },
    {
      "cell_type": "code",
      "execution_count": null,
      "metadata": {
        "id": "waKuuaQ1Vr98",
        "outputId": "e22e9ccc-f326-4a6a-8337-97aee2a8115f",
        "colab": {
          "base_uri": "https://localhost:8080/"
        }
      },
      "outputs": [
        {
          "output_type": "execute_result",
          "data": {
            "text/plain": [
              "array([[ 1,  2,  3,  4],\n",
              "       [ 5,  6,  7,  8],\n",
              "       [ 9, 10, 11, 12]])"
            ]
          },
          "metadata": {},
          "execution_count": 83
        }
      ],
      "source": [
        "n.reshape(3,4)"
      ]
    },
    {
      "cell_type": "markdown",
      "source": [
        "###-1 ile Boyuta Karar Vermek"
      ],
      "metadata": {
        "id": "2eDmKmVWyK9v"
      }
    },
    {
      "cell_type": "code",
      "execution_count": null,
      "metadata": {
        "id": "8CGs6VqJVr99",
        "outputId": "fe8049bc-ffcd-45e7-95b2-c7f6e8e2901f",
        "colab": {
          "base_uri": "https://localhost:8080/"
        }
      },
      "outputs": [
        {
          "output_type": "execute_result",
          "data": {
            "text/plain": [
              "array([[ 1,  2,  3,  4],\n",
              "       [ 5,  6,  7,  8],\n",
              "       [ 9, 10, 11, 12]])"
            ]
          },
          "metadata": {},
          "execution_count": 84
        }
      ],
      "source": [
        "#otomatik olarak 4 kolonlu bir array yarattı\n",
        "n.reshape(-1,4) #n.size = 12 olacak şekilde 4 sütun u olan array yapar"
      ]
    },
    {
      "cell_type": "markdown",
      "source": [
        "###Yeni Boyut Ekleme"
      ],
      "metadata": {
        "id": "TBLzwxFJy84P"
      }
    },
    {
      "cell_type": "code",
      "source": [
        "a = np.arange(1,11)\n",
        "a"
      ],
      "metadata": {
        "colab": {
          "base_uri": "https://localhost:8080/"
        },
        "id": "pb0puxiTzVEs",
        "outputId": "af72fc7f-eba6-4f3f-e980-2aff1019e110"
      },
      "execution_count": null,
      "outputs": [
        {
          "output_type": "execute_result",
          "data": {
            "text/plain": [
              "array([ 1,  2,  3,  4,  5,  6,  7,  8,  9, 10])"
            ]
          },
          "metadata": {},
          "execution_count": 41
        }
      ]
    },
    {
      "cell_type": "code",
      "source": [
        "a[np.newaxis, :] # : hepsini al demek, 1 row 10 column oldu"
      ],
      "metadata": {
        "colab": {
          "base_uri": "https://localhost:8080/"
        },
        "id": "uYGJHPkYzbzU",
        "outputId": "7588f57e-d730-463d-c2d2-a9d72582dfa0"
      },
      "execution_count": null,
      "outputs": [
        {
          "output_type": "execute_result",
          "data": {
            "text/plain": [
              "array([[ 1,  2,  3,  4,  5,  6,  7,  8,  9, 10]])"
            ]
          },
          "metadata": {},
          "execution_count": 40
        }
      ]
    },
    {
      "cell_type": "code",
      "source": [
        "#column vector\n",
        "a[:, np.newaxis] # 10 row 1 column oldu"
      ],
      "metadata": {
        "colab": {
          "base_uri": "https://localhost:8080/"
        },
        "id": "H7FIaz8Vz0bC",
        "outputId": "f1f2eb52-6d05-4b70-fbaa-83068a335489"
      },
      "execution_count": null,
      "outputs": [
        {
          "output_type": "execute_result",
          "data": {
            "text/plain": [
              "array([[ 1],\n",
              "       [ 2],\n",
              "       [ 3],\n",
              "       [ 4],\n",
              "       [ 5],\n",
              "       [ 6],\n",
              "       [ 7],\n",
              "       [ 8],\n",
              "       [ 9],\n",
              "       [10]])"
            ]
          },
          "metadata": {},
          "execution_count": 42
        }
      ]
    },
    {
      "cell_type": "code",
      "source": [
        "a[:, np.newaxis].shape"
      ],
      "metadata": {
        "colab": {
          "base_uri": "https://localhost:8080/"
        },
        "id": "lZvZT_gh0F83",
        "outputId": "03616029-507f-43ab-ae7d-aba50d049764"
      },
      "execution_count": null,
      "outputs": [
        {
          "output_type": "execute_result",
          "data": {
            "text/plain": [
              "(10, 1)"
            ]
          },
          "metadata": {},
          "execution_count": 43
        }
      ]
    },
    {
      "cell_type": "markdown",
      "metadata": {
        "id": "YtDoYI4UVr-H"
      },
      "source": [
        "### Concatenation: **np.concatenate()**"
      ]
    },
    {
      "cell_type": "code",
      "execution_count": null,
      "metadata": {
        "id": "B6yEXcI7Vr-H"
      },
      "outputs": [],
      "source": [
        "x= np.array([1,2,3])\n",
        "y= np.array([4,5,6])"
      ]
    },
    {
      "cell_type": "code",
      "execution_count": null,
      "metadata": {
        "id": "1R5XtauDVr-I",
        "outputId": "2abae870-4fe8-4b9a-df76-4b436a24315d",
        "colab": {
          "base_uri": "https://localhost:8080/"
        }
      },
      "outputs": [
        {
          "output_type": "execute_result",
          "data": {
            "text/plain": [
              "array([1, 2, 3, 4, 5, 6])"
            ]
          },
          "metadata": {},
          "execution_count": 86
        }
      ],
      "source": [
        "np.concatenate([x,y])"
      ]
    },
    {
      "cell_type": "code",
      "execution_count": null,
      "metadata": {
        "id": "S24K9uyvVr-K"
      },
      "outputs": [],
      "source": [
        "l=[9,0]"
      ]
    },
    {
      "cell_type": "code",
      "execution_count": null,
      "metadata": {
        "id": "IBbGJs1eVr-L",
        "outputId": "c205502d-3f88-4326-b565-e2955b5880e2",
        "colab": {
          "base_uri": "https://localhost:8080/",
          "height": 141
        }
      },
      "outputs": [
        {
          "output_type": "error",
          "ename": "NameError",
          "evalue": "name 'l' is not defined",
          "traceback": [
            "\u001b[0;31m---------------------------------------------------------------------------\u001b[0m",
            "\u001b[0;31mNameError\u001b[0m                                 Traceback (most recent call last)",
            "\u001b[0;32m/tmp/ipython-input-3946948117.py\u001b[0m in \u001b[0;36m<cell line: 0>\u001b[0;34m()\u001b[0m\n\u001b[0;32m----> 1\u001b[0;31m \u001b[0mnp\u001b[0m\u001b[0;34m.\u001b[0m\u001b[0mconcatenate\u001b[0m\u001b[0;34m(\u001b[0m\u001b[0;34m[\u001b[0m\u001b[0my\u001b[0m\u001b[0;34m,\u001b[0m\u001b[0mx\u001b[0m\u001b[0;34m,\u001b[0m\u001b[0ml\u001b[0m\u001b[0;34m]\u001b[0m\u001b[0;34m)\u001b[0m\u001b[0;34m\u001b[0m\u001b[0;34m\u001b[0m\u001b[0m\n\u001b[0m",
            "\u001b[0;31mNameError\u001b[0m: name 'l' is not defined"
          ]
        }
      ],
      "source": [
        "np.concatenate([y,x,l])"
      ]
    },
    {
      "cell_type": "code",
      "source": [
        "k = [10,11.2]\n",
        "np.concatenate([y,x,k]) # bir tane float oldugundan elemanların hepsi float oldu"
      ],
      "metadata": {
        "colab": {
          "base_uri": "https://localhost:8080/"
        },
        "id": "lYnk8vrT0-E-",
        "outputId": "1f26fd3a-2df8-45d9-c703-8d2ba1ace5f3"
      },
      "execution_count": null,
      "outputs": [
        {
          "output_type": "execute_result",
          "data": {
            "text/plain": [
              "array([ 4. ,  5. ,  6. ,  1. ,  2. ,  3. , 10. , 11.2])"
            ]
          },
          "metadata": {},
          "execution_count": 45
        }
      ]
    },
    {
      "cell_type": "code",
      "source": [
        "m = (\"a\", 2) #list yerine tuple da kullanılabilir\n",
        "np.concatenate([x,y,m]) # data tipi string e dönüştü"
      ],
      "metadata": {
        "colab": {
          "base_uri": "https://localhost:8080/"
        },
        "id": "6Nz8MytH1lG9",
        "outputId": "759cbe3f-194d-4039-bd6f-f7bbe0388499"
      },
      "execution_count": null,
      "outputs": [
        {
          "output_type": "execute_result",
          "data": {
            "text/plain": [
              "array(['1', '2', '3', '4', '5', '6', 'a', '2'], dtype='<U21')"
            ]
          },
          "metadata": {},
          "execution_count": 46
        }
      ]
    },
    {
      "cell_type": "markdown",
      "source": [
        "###Size Mismatch"
      ],
      "metadata": {
        "id": "iP6p718x3a-U"
      }
    },
    {
      "cell_type": "code",
      "source": [
        "b = np.array([1,2,3,4])\n",
        "b"
      ],
      "metadata": {
        "colab": {
          "base_uri": "https://localhost:8080/"
        },
        "id": "BSs9M3V34JKe",
        "outputId": "964b14c7-064d-4d3e-a819-ebf2cafa4f8b"
      },
      "execution_count": null,
      "outputs": [
        {
          "output_type": "execute_result",
          "data": {
            "text/plain": [
              "array([1, 2, 3, 4])"
            ]
          },
          "metadata": {},
          "execution_count": 50
        }
      ]
    },
    {
      "cell_type": "code",
      "execution_count": null,
      "metadata": {
        "id": "sjJarUo-Vr-M",
        "outputId": "2648c024-4268-4e57-a65e-8a9398665224",
        "colab": {
          "base_uri": "https://localhost:8080/"
        }
      },
      "outputs": [
        {
          "output_type": "execute_result",
          "data": {
            "text/plain": [
              "array([[1, 2, 3],\n",
              "       [4, 5, 6]])"
            ]
          },
          "metadata": {},
          "execution_count": 47
        }
      ],
      "source": [
        "# iki boyutlu\n",
        "\n",
        "a= np.array([[1,2,3],[4,5,6]])\n",
        "a"
      ]
    },
    {
      "cell_type": "code",
      "source": [
        "a.size"
      ],
      "metadata": {
        "colab": {
          "base_uri": "https://localhost:8080/"
        },
        "id": "Ba2JnT4w35E0",
        "outputId": "a82c8f5c-c29e-4779-ba96-c59b8874676b"
      },
      "execution_count": null,
      "outputs": [
        {
          "output_type": "execute_result",
          "data": {
            "text/plain": [
              "6"
            ]
          },
          "metadata": {},
          "execution_count": 48
        }
      ]
    },
    {
      "cell_type": "code",
      "execution_count": null,
      "metadata": {
        "id": "YKZsNldfVr-M",
        "outputId": "cf6876e2-881d-4be3-c479-df5b5cd8d994",
        "colab": {
          "base_uri": "https://localhost:8080/"
        }
      },
      "outputs": [
        {
          "output_type": "execute_result",
          "data": {
            "text/plain": [
              "2"
            ]
          },
          "metadata": {},
          "execution_count": 89
        }
      ],
      "source": [
        "a.ndim"
      ]
    },
    {
      "cell_type": "code",
      "execution_count": null,
      "metadata": {
        "id": "vuA69kc8Vr-N",
        "outputId": "c3e5ac2e-4b69-405c-886b-2c879aba9e3e",
        "colab": {
          "base_uri": "https://localhost:8080/"
        }
      },
      "outputs": [
        {
          "output_type": "execute_result",
          "data": {
            "text/plain": [
              "(2, 3)"
            ]
          },
          "metadata": {},
          "execution_count": 90
        }
      ],
      "source": [
        "a.shape"
      ]
    },
    {
      "cell_type": "code",
      "source": [
        "b.shape #row column yok, 4 elemanı var dimension 1 dir. Row column dan bahsedebilmek için 2 boyutlu olması gerekir"
      ],
      "metadata": {
        "colab": {
          "base_uri": "https://localhost:8080/"
        },
        "id": "wdC6Cbnx4Sxe",
        "outputId": "b79ba169-1ad7-41dc-d535-fe39df4568ba"
      },
      "execution_count": null,
      "outputs": [
        {
          "output_type": "execute_result",
          "data": {
            "text/plain": [
              "(4,)"
            ]
          },
          "metadata": {},
          "execution_count": 51
        }
      ]
    },
    {
      "cell_type": "code",
      "source": [
        "#shape mismatch\n",
        "np.concatenate([a,b])"
      ],
      "metadata": {
        "colab": {
          "base_uri": "https://localhost:8080/",
          "height": 158
        },
        "id": "fetabyIJ4hg8",
        "outputId": "dc6a49a9-ef39-460b-b15e-456156110158"
      },
      "execution_count": null,
      "outputs": [
        {
          "output_type": "error",
          "ename": "ValueError",
          "evalue": "all the input arrays must have same number of dimensions, but the array at index 0 has 2 dimension(s) and the array at index 1 has 1 dimension(s)",
          "traceback": [
            "\u001b[0;31m---------------------------------------------------------------------------\u001b[0m",
            "\u001b[0;31mValueError\u001b[0m                                Traceback (most recent call last)",
            "\u001b[0;32m/tmp/ipython-input-2890207678.py\u001b[0m in \u001b[0;36m<cell line: 0>\u001b[0;34m()\u001b[0m\n\u001b[0;32m----> 1\u001b[0;31m \u001b[0mnp\u001b[0m\u001b[0;34m.\u001b[0m\u001b[0mconcatenate\u001b[0m\u001b[0;34m(\u001b[0m\u001b[0;34m[\u001b[0m\u001b[0ma\u001b[0m\u001b[0;34m,\u001b[0m\u001b[0mb\u001b[0m\u001b[0;34m]\u001b[0m\u001b[0;34m)\u001b[0m\u001b[0;34m\u001b[0m\u001b[0;34m\u001b[0m\u001b[0m\n\u001b[0m",
            "\u001b[0;31mValueError\u001b[0m: all the input arrays must have same number of dimensions, but the array at index 0 has 2 dimension(s) and the array at index 1 has 1 dimension(s)"
          ]
        }
      ]
    },
    {
      "cell_type": "code",
      "execution_count": null,
      "metadata": {
        "id": "ElEBaewVVr-O",
        "outputId": "d1b012a6-c2db-40a0-f8e1-db5cf1a778c6",
        "colab": {
          "base_uri": "https://localhost:8080/"
        }
      },
      "outputs": [
        {
          "output_type": "execute_result",
          "data": {
            "text/plain": [
              "array([[1, 2, 3],\n",
              "       [4, 5, 6],\n",
              "       [1, 2, 3],\n",
              "       [4, 5, 6]])"
            ]
          },
          "metadata": {},
          "execution_count": 91
        }
      ],
      "source": [
        "#dimensionların aynı olması gerekir\n",
        "m= np.concatenate([a,a])\n",
        "m"
      ]
    },
    {
      "cell_type": "code",
      "execution_count": null,
      "metadata": {
        "id": "KtCi3fQ1Vr-Q",
        "outputId": "3f0f0dd6-3bf4-449d-8808-d5c455189c5a",
        "colab": {
          "base_uri": "https://localhost:8080/"
        }
      },
      "outputs": [
        {
          "output_type": "execute_result",
          "data": {
            "text/plain": [
              "array([[1, 2, 3],\n",
              "       [4, 5, 6],\n",
              "       [1, 2, 3],\n",
              "       [4, 5, 6]])"
            ]
          },
          "metadata": {},
          "execution_count": 116
        }
      ],
      "source": [
        "#asis = 0 satır boyunca\n",
        "m= np.concatenate([a,a],axis=0)\n",
        "m"
      ]
    },
    {
      "cell_type": "code",
      "execution_count": null,
      "metadata": {
        "id": "juYNvn_2Vr-R",
        "outputId": "5098a50a-8240-4400-ffa7-369307409995",
        "colab": {
          "base_uri": "https://localhost:8080/"
        }
      },
      "outputs": [
        {
          "output_type": "execute_result",
          "data": {
            "text/plain": [
              "array([[1, 2, 3, 1, 2, 3],\n",
              "       [4, 5, 6, 4, 5, 6]])"
            ]
          },
          "metadata": {},
          "execution_count": 92
        }
      ],
      "source": [
        "#axis= 1 sutun boyunca işlem\n",
        "m= np.concatenate([a,a],axis=1)\n",
        "m"
      ]
    },
    {
      "cell_type": "code",
      "source": [
        "array_1 = np.array([[1,2,3],[0,0,0]])\n",
        "array_2 = np.array([[0,0,0],[7,8,9]])\n",
        "\n",
        "np.concatenate((array_1, array_2), axis = 1)\n"
      ],
      "metadata": {
        "colab": {
          "base_uri": "https://localhost:8080/"
        },
        "id": "PROY5_6R5nmU",
        "outputId": "1bec9343-debf-4ce7-bec6-3c47b4273318"
      },
      "execution_count": null,
      "outputs": [
        {
          "output_type": "execute_result",
          "data": {
            "text/plain": [
              "array([[1, 2, 3, 0, 0, 0],\n",
              "       [0, 0, 0, 7, 8, 9]])"
            ]
          },
          "metadata": {},
          "execution_count": 55
        }
      ]
    },
    {
      "cell_type": "markdown",
      "source": [
        "##Stack\n",
        "\n",
        "Stack mantığını yeni dimension ekleyip o dimension üzerinde concatenation yaparak da sağlayabiliriz. Stack ile yaptığımız işlemi birleştirmek istediğimiz arraylere dimension ekledikten sonra concatenation ile de yapabiliriz."
      ],
      "metadata": {
        "id": "QuyPWCpF0cRz"
      }
    },
    {
      "cell_type": "code",
      "source": [
        "array_1 = np.array([1,2,3,4])"
      ],
      "metadata": {
        "id": "5AWMlZLa0u9P"
      },
      "execution_count": null,
      "outputs": []
    },
    {
      "cell_type": "code",
      "source": [
        "array_2 = np.array([5,6,7,8])"
      ],
      "metadata": {
        "id": "ISy55tCY06Zq"
      },
      "execution_count": null,
      "outputs": []
    },
    {
      "cell_type": "code",
      "source": [
        "array_1"
      ],
      "metadata": {
        "colab": {
          "base_uri": "https://localhost:8080/"
        },
        "id": "hSm9hMXX0-xi",
        "outputId": "64b899bc-3dba-4354-946a-73380a071c7b"
      },
      "execution_count": null,
      "outputs": [
        {
          "output_type": "execute_result",
          "data": {
            "text/plain": [
              "array([1, 2, 3, 4])"
            ]
          },
          "metadata": {},
          "execution_count": 6
        }
      ]
    },
    {
      "cell_type": "code",
      "source": [
        "array_2"
      ],
      "metadata": {
        "colab": {
          "base_uri": "https://localhost:8080/"
        },
        "id": "NOSkR5-n0_4t",
        "outputId": "a87d2b7c-aedd-4886-f1b6-026c123af4d1"
      },
      "execution_count": null,
      "outputs": [
        {
          "output_type": "execute_result",
          "data": {
            "text/plain": [
              "array([5, 6, 7, 8])"
            ]
          },
          "metadata": {},
          "execution_count": 7
        }
      ]
    },
    {
      "cell_type": "code",
      "source": [
        "array_1.shape"
      ],
      "metadata": {
        "colab": {
          "base_uri": "https://localhost:8080/"
        },
        "id": "iTiTqnWn1NUz",
        "outputId": "c95919a2-17d1-427e-d86b-3c1a84993f8f"
      },
      "execution_count": null,
      "outputs": [
        {
          "output_type": "execute_result",
          "data": {
            "text/plain": [
              "(4,)"
            ]
          },
          "metadata": {},
          "execution_count": 8
        }
      ]
    },
    {
      "cell_type": "code",
      "source": [
        "array_2.shape"
      ],
      "metadata": {
        "colab": {
          "base_uri": "https://localhost:8080/"
        },
        "id": "DHQb0Ogc1RaX",
        "outputId": "535b1b08-df81-464e-d946-bba9009c6b7d"
      },
      "execution_count": null,
      "outputs": [
        {
          "output_type": "execute_result",
          "data": {
            "text/plain": [
              "(4,)"
            ]
          },
          "metadata": {},
          "execution_count": 9
        }
      ]
    },
    {
      "cell_type": "code",
      "source": [
        "np.stack([array_1,array_2]) #axis yok çünkü row ve column yok. Yeni bir dimension yaratıp onun üzerie ekleme yapıyor"
      ],
      "metadata": {
        "colab": {
          "base_uri": "https://localhost:8080/"
        },
        "id": "2nua-90y1Vgm",
        "outputId": "af7c6acf-91e1-4ff8-cd1d-0fb0b9de6e4a"
      },
      "execution_count": null,
      "outputs": [
        {
          "output_type": "execute_result",
          "data": {
            "text/plain": [
              "array([[1, 2, 3, 4],\n",
              "       [5, 6, 7, 8]])"
            ]
          },
          "metadata": {},
          "execution_count": 10
        }
      ]
    },
    {
      "cell_type": "code",
      "source": [
        "np.stack([array_1,array_2]).shape"
      ],
      "metadata": {
        "colab": {
          "base_uri": "https://localhost:8080/"
        },
        "id": "l67jaqgu1zOq",
        "outputId": "d9b39756-63c9-4b4d-ca6e-183fd696a345"
      },
      "execution_count": null,
      "outputs": [
        {
          "output_type": "execute_result",
          "data": {
            "text/plain": [
              "(2, 4)"
            ]
          },
          "metadata": {},
          "execution_count": 11
        }
      ]
    },
    {
      "cell_type": "code",
      "source": [
        "np.stack([array_1,array_2],axis=1)"
      ],
      "metadata": {
        "colab": {
          "base_uri": "https://localhost:8080/"
        },
        "id": "VSSsZiB_18T4",
        "outputId": "a31c93a1-1ad5-459e-f96a-4131180c5cf4"
      },
      "execution_count": null,
      "outputs": [
        {
          "output_type": "execute_result",
          "data": {
            "text/plain": [
              "array([[1, 5],\n",
              "       [2, 6],\n",
              "       [3, 7],\n",
              "       [4, 8]])"
            ]
          },
          "metadata": {},
          "execution_count": 12
        }
      ]
    },
    {
      "cell_type": "markdown",
      "metadata": {
        "id": "MzdpkQTxVr-S"
      },
      "source": [
        "# Splitting"
      ]
    },
    {
      "cell_type": "code",
      "execution_count": null,
      "metadata": {
        "id": "r53AAO4HVr-S"
      },
      "outputs": [],
      "source": [
        "l=[10,20,30,40,50,60,70,80] #list"
      ]
    },
    {
      "cell_type": "code",
      "execution_count": null,
      "metadata": {
        "id": "LI_DbosKVr-T",
        "outputId": "f54a9760-5433-477a-9c95-5cd2136f626f",
        "colab": {
          "base_uri": "https://localhost:8080/"
        }
      },
      "outputs": [
        {
          "output_type": "execute_result",
          "data": {
            "text/plain": [
              "[10, 20, 30, 40, 50]"
            ]
          },
          "metadata": {},
          "execution_count": 14
        }
      ],
      "source": [
        "l[0:5]"
      ]
    },
    {
      "cell_type": "code",
      "execution_count": null,
      "metadata": {
        "id": "sHaf5YJGVr-U",
        "outputId": "b2e96cb3-79ca-4788-fe30-3f57152de097",
        "colab": {
          "base_uri": "https://localhost:8080/"
        }
      },
      "outputs": [
        {
          "output_type": "execute_result",
          "data": {
            "text/plain": [
              "[10, 20, 30, 40, 50]"
            ]
          },
          "metadata": {},
          "execution_count": 15
        }
      ],
      "source": [
        "l[:5]"
      ]
    },
    {
      "cell_type": "code",
      "execution_count": null,
      "metadata": {
        "id": "R7lCvfD0Vr-V",
        "outputId": "6538c077-abc1-4f04-c68c-46e1954917cf",
        "colab": {
          "base_uri": "https://localhost:8080/"
        }
      },
      "outputs": [
        {
          "output_type": "execute_result",
          "data": {
            "text/plain": [
              "[array([10, 20]), array([30, 40, 50]), array([60, 70, 80])]"
            ]
          },
          "metadata": {},
          "execution_count": 16
        }
      ],
      "source": [
        "final=np.split(l, [2,5]) # l listesini 0-2, 2-5, kalan şeklinde böl.\n",
        "final"
      ]
    },
    {
      "cell_type": "code",
      "source": [
        "np.split(l, [2,6])#index 2 nin başına ve 6 nın başından böl: [0,2],[2,6][6,]"
      ],
      "metadata": {
        "colab": {
          "base_uri": "https://localhost:8080/"
        },
        "id": "lruQ9hPQ3gDC",
        "outputId": "3f7923d9-2045-4b99-b2fd-db5a76efde81"
      },
      "execution_count": null,
      "outputs": [
        {
          "output_type": "execute_result",
          "data": {
            "text/plain": [
              "[array([10, 20]), array([30, 40, 50, 60]), array([70, 80])]"
            ]
          },
          "metadata": {},
          "execution_count": 17
        }
      ]
    },
    {
      "cell_type": "markdown",
      "source": [
        "###Split'in Sonucunu Birden Çok Değişkene Eşitleme"
      ],
      "metadata": {
        "id": "lUmX4aNY4UGo"
      }
    },
    {
      "cell_type": "code",
      "execution_count": null,
      "metadata": {
        "id": "vuZPE-eWVr-W"
      },
      "outputs": [],
      "source": [
        "a,b =(1,10)"
      ]
    },
    {
      "cell_type": "code",
      "source": [
        "print(a)\n",
        "print(b)"
      ],
      "metadata": {
        "colab": {
          "base_uri": "https://localhost:8080/"
        },
        "id": "QMR1C2F-4_sD",
        "outputId": "2736195f-8e02-427d-b33b-4b52cbcda726"
      },
      "execution_count": null,
      "outputs": [
        {
          "output_type": "stream",
          "name": "stdout",
          "text": [
            "1\n",
            "10\n"
          ]
        }
      ]
    },
    {
      "cell_type": "code",
      "execution_count": null,
      "metadata": {
        "id": "QvEwliO0Vr-W"
      },
      "outputs": [],
      "source": [
        "a,b,c=np.split(l,[2,6] )"
      ]
    },
    {
      "cell_type": "code",
      "execution_count": null,
      "metadata": {
        "id": "ZjsGt0oVVr-X",
        "outputId": "41a7f58d-f06d-4dcc-b6f6-97e8ab86b100",
        "colab": {
          "base_uri": "https://localhost:8080/"
        }
      },
      "outputs": [
        {
          "output_type": "execute_result",
          "data": {
            "text/plain": [
              "array([10, 20])"
            ]
          },
          "metadata": {},
          "execution_count": 20
        }
      ],
      "source": [
        "a"
      ]
    },
    {
      "cell_type": "code",
      "execution_count": null,
      "metadata": {
        "id": "cwdERWkhVr-Z",
        "outputId": "dc66e4b8-5181-4efb-c663-2fe3947cd200",
        "colab": {
          "base_uri": "https://localhost:8080/"
        }
      },
      "outputs": [
        {
          "output_type": "execute_result",
          "data": {
            "text/plain": [
              "array([30, 40, 50])"
            ]
          },
          "metadata": {},
          "execution_count": 21
        }
      ],
      "source": [
        "b"
      ]
    },
    {
      "cell_type": "code",
      "execution_count": null,
      "metadata": {
        "id": "nkbEVd-yVr-c",
        "outputId": "f79043e5-1605-418e-b831-0745f8e95cd1",
        "colab": {
          "base_uri": "https://localhost:8080/"
        }
      },
      "outputs": [
        {
          "output_type": "execute_result",
          "data": {
            "text/plain": [
              "array([60, 70, 80])"
            ]
          },
          "metadata": {},
          "execution_count": 22
        }
      ],
      "source": [
        "c"
      ]
    },
    {
      "cell_type": "code",
      "source": [
        "type(np.split(l, [2,6])) # output genel olarak python list olarak tutuluyor"
      ],
      "metadata": {
        "colab": {
          "base_uri": "https://localhost:8080/"
        },
        "id": "BvpCm1xI0CLP",
        "outputId": "6f400556-67f2-4f5d-d2b9-68f6f6bc601c"
      },
      "execution_count": null,
      "outputs": [
        {
          "output_type": "execute_result",
          "data": {
            "text/plain": [
              "list"
            ]
          },
          "metadata": {},
          "execution_count": 10
        }
      ]
    },
    {
      "cell_type": "code",
      "source": [
        "type(np.split(l, [2,6])[0]) # elemanlar numpy array i olarak tutuluyor"
      ],
      "metadata": {
        "colab": {
          "base_uri": "https://localhost:8080/"
        },
        "id": "S1o1SIwx0n4z",
        "outputId": "5b561b28-51bb-4d4b-9445-3ed4bfb24161"
      },
      "execution_count": null,
      "outputs": [
        {
          "output_type": "execute_result",
          "data": {
            "text/plain": [
              "numpy.ndarray"
            ]
          },
          "metadata": {},
          "execution_count": 11
        }
      ]
    },
    {
      "cell_type": "markdown",
      "metadata": {
        "id": "b2GyAKWMVr-d"
      },
      "source": [
        "# Array elemanlarına erişmek"
      ]
    },
    {
      "cell_type": "code",
      "source": [
        "a=np.arange(1,13).reshape(3,4)\n",
        "a"
      ],
      "metadata": {
        "id": "7uo4ggFJ1LiB"
      },
      "execution_count": null,
      "outputs": []
    },
    {
      "cell_type": "code",
      "execution_count": null,
      "metadata": {
        "id": "BhVP20stVr-e",
        "outputId": "2d125b52-553f-4596-de80-3f7bc0922855",
        "colab": {
          "base_uri": "https://localhost:8080/"
        }
      },
      "outputs": [
        {
          "output_type": "execute_result",
          "data": {
            "text/plain": [
              "array([1, 2, 3, 4])"
            ]
          },
          "metadata": {},
          "execution_count": 128
        }
      ],
      "source": [
        "#birinci satır\n",
        "a[0]"
      ]
    },
    {
      "cell_type": "code",
      "execution_count": null,
      "metadata": {
        "id": "Zfqdz43gVr-f",
        "outputId": "ffc01cc9-ebde-4f93-8b09-e9dfba7e7924",
        "colab": {
          "base_uri": "https://localhost:8080/"
        }
      },
      "outputs": [
        {
          "output_type": "execute_result",
          "data": {
            "text/plain": [
              "array([5, 6, 7, 8])"
            ]
          },
          "metadata": {},
          "execution_count": 129
        }
      ],
      "source": [
        "# ikinci satır\n",
        "a[1]"
      ]
    },
    {
      "cell_type": "code",
      "execution_count": null,
      "metadata": {
        "id": "DXdSrUUIVr-g",
        "outputId": "aec2dd39-986f-4018-db69-390843041a0b",
        "colab": {
          "base_uri": "https://localhost:8080/"
        }
      },
      "outputs": [
        {
          "output_type": "execute_result",
          "data": {
            "text/plain": [
              "np.int64(1)"
            ]
          },
          "metadata": {},
          "execution_count": 139
        }
      ],
      "source": [
        "#0.satır 0.kolon\n",
        "a[0][0]"
      ]
    },
    {
      "cell_type": "code",
      "execution_count": null,
      "metadata": {
        "id": "EEilvh0EVr-h",
        "outputId": "1d5bbdb7-56c8-4f87-d4b8-365d430e57f0",
        "colab": {
          "base_uri": "https://localhost:8080/"
        }
      },
      "outputs": [
        {
          "output_type": "execute_result",
          "data": {
            "text/plain": [
              "np.int64(2)"
            ]
          },
          "metadata": {},
          "execution_count": 140
        }
      ],
      "source": [
        "#0.satır 1.kolon\n",
        "a[0,1]"
      ]
    },
    {
      "cell_type": "code",
      "execution_count": null,
      "metadata": {
        "id": "Xz-MvAXTVr-h",
        "outputId": "bafed774-e67d-4a89-edd0-7612a151ff55",
        "colab": {
          "base_uri": "https://localhost:8080/"
        }
      },
      "outputs": [
        {
          "output_type": "execute_result",
          "data": {
            "text/plain": [
              "np.int64(6)"
            ]
          },
          "metadata": {},
          "execution_count": 141
        }
      ],
      "source": [
        "a[1,1]"
      ]
    },
    {
      "cell_type": "code",
      "execution_count": null,
      "metadata": {
        "id": "8aNGs0EMVr-i",
        "outputId": "89af6f38-1e63-46d8-e7a5-a5c6911885d4",
        "colab": {
          "base_uri": "https://localhost:8080/"
        }
      },
      "outputs": [
        {
          "output_type": "execute_result",
          "data": {
            "text/plain": [
              "np.int64(11)"
            ]
          },
          "metadata": {},
          "execution_count": 142
        }
      ],
      "source": [
        "#2.satır 2.kolon\n",
        "a[2,2]"
      ]
    },
    {
      "cell_type": "code",
      "execution_count": null,
      "metadata": {
        "id": "XKjH-bu1Vr-i",
        "outputId": "e8a38422-b748-42b7-ab33-3a3fcba79f57",
        "colab": {
          "base_uri": "https://localhost:8080/"
        }
      },
      "outputs": [
        {
          "output_type": "execute_result",
          "data": {
            "text/plain": [
              "array([[  1,   2,   3,   4],\n",
              "       [  5,   6,   7,   8],\n",
              "       [  9,  10, 300,  12]])"
            ]
          },
          "metadata": {},
          "execution_count": 143
        }
      ],
      "source": [
        "#2.satır 2.kolon 300 olarak değiştirildi\n",
        "a[2,2]= 300\n",
        "a"
      ]
    },
    {
      "cell_type": "markdown",
      "source": [
        "**vsplit**\n",
        "\n",
        "Row' a göre ayrım yapıyor."
      ],
      "metadata": {
        "id": "aj2wOaFl5KKG"
      }
    },
    {
      "cell_type": "code",
      "source": [
        "a = np.arange(20).reshape(5,4)\n",
        "a"
      ],
      "metadata": {
        "colab": {
          "base_uri": "https://localhost:8080/"
        },
        "id": "HwTlBrVU1P2z",
        "outputId": "0367707d-e8c3-4dff-c926-92f5de93a18c"
      },
      "execution_count": null,
      "outputs": [
        {
          "output_type": "execute_result",
          "data": {
            "text/plain": [
              "array([[ 0,  1,  2,  3],\n",
              "       [ 4,  5,  6,  7],\n",
              "       [ 8,  9, 10, 11],\n",
              "       [12, 13, 14, 15],\n",
              "       [16, 17, 18, 19]])"
            ]
          },
          "metadata": {},
          "execution_count": 36
        }
      ]
    },
    {
      "cell_type": "code",
      "source": [
        "np.vsplit(a, [1])"
      ],
      "metadata": {
        "colab": {
          "base_uri": "https://localhost:8080/"
        },
        "id": "ZTtra2qh1aq9",
        "outputId": "eefe502e-3a67-4c51-a75c-4633c7c48788"
      },
      "execution_count": null,
      "outputs": [
        {
          "output_type": "execute_result",
          "data": {
            "text/plain": [
              "[array([[0, 1, 2, 3]]),\n",
              " array([[ 4,  5,  6,  7],\n",
              "        [ 8,  9, 10, 11],\n",
              "        [12, 13, 14, 15],\n",
              "        [16, 17, 18, 19]])]"
            ]
          },
          "metadata": {},
          "execution_count": 37
        }
      ]
    },
    {
      "cell_type": "code",
      "source": [
        "np.vsplit(a, [1])[0]"
      ],
      "metadata": {
        "colab": {
          "base_uri": "https://localhost:8080/"
        },
        "id": "OtdGjjZd10jg",
        "outputId": "a686c521-828e-4731-ac76-25e9ac2a3c54"
      },
      "execution_count": null,
      "outputs": [
        {
          "output_type": "execute_result",
          "data": {
            "text/plain": [
              "array([[0, 1, 2, 3]])"
            ]
          },
          "metadata": {},
          "execution_count": 38
        }
      ]
    },
    {
      "cell_type": "code",
      "source": [
        "np.vsplit(a, [1,3])"
      ],
      "metadata": {
        "colab": {
          "base_uri": "https://localhost:8080/"
        },
        "id": "QzfU0EGT6wAM",
        "outputId": "c76c689a-5bc2-45af-e288-004ffccd6d05"
      },
      "execution_count": null,
      "outputs": [
        {
          "output_type": "execute_result",
          "data": {
            "text/plain": [
              "[array([[0, 1, 2, 3]]),\n",
              " array([[ 4,  5,  6,  7],\n",
              "        [ 8,  9, 10, 11]]),\n",
              " array([[12, 13, 14, 15],\n",
              "        [16, 17, 18, 19]])]"
            ]
          },
          "metadata": {},
          "execution_count": 39
        }
      ]
    },
    {
      "cell_type": "markdown",
      "source": [
        "###**hsplit**\n",
        "\n",
        "Column' a göre parçalar"
      ],
      "metadata": {
        "id": "ihfiihLm2ycz"
      }
    },
    {
      "cell_type": "code",
      "source": [
        "a = np.arange(20).reshape(2,10)\n",
        "a"
      ],
      "metadata": {
        "colab": {
          "base_uri": "https://localhost:8080/"
        },
        "id": "Fo3gLzSD2xlJ",
        "outputId": "d9b0d1c9-070b-412c-bb43-619c14df1272"
      },
      "execution_count": null,
      "outputs": [
        {
          "output_type": "execute_result",
          "data": {
            "text/plain": [
              "array([[ 0,  1,  2,  3,  4,  5,  6,  7,  8,  9],\n",
              "       [10, 11, 12, 13, 14, 15, 16, 17, 18, 19]])"
            ]
          },
          "metadata": {},
          "execution_count": 17
        }
      ]
    },
    {
      "cell_type": "code",
      "source": [
        "np.hsplit(a, [2])"
      ],
      "metadata": {
        "colab": {
          "base_uri": "https://localhost:8080/"
        },
        "id": "fMjLEWpY3P1m",
        "outputId": "66b3edce-d1f7-4159-e7cf-e21f61a4e8d3"
      },
      "execution_count": null,
      "outputs": [
        {
          "output_type": "execute_result",
          "data": {
            "text/plain": [
              "[array([[ 0,  1],\n",
              "        [10, 11]]),\n",
              " array([[ 2,  3,  4,  5,  6,  7,  8,  9],\n",
              "        [12, 13, 14, 15, 16, 17, 18, 19]])]"
            ]
          },
          "metadata": {},
          "execution_count": 19
        }
      ]
    },
    {
      "cell_type": "code",
      "source": [
        "np.hsplit(a, [2])[1]"
      ],
      "metadata": {
        "colab": {
          "base_uri": "https://localhost:8080/"
        },
        "id": "Ift-QegR3iXC",
        "outputId": "520731a0-c9cf-4109-bad8-4de6c1c9ac4e"
      },
      "execution_count": null,
      "outputs": [
        {
          "output_type": "execute_result",
          "data": {
            "text/plain": [
              "array([[ 2,  3,  4,  5,  6,  7,  8,  9],\n",
              "       [12, 13, 14, 15, 16, 17, 18, 19]])"
            ]
          },
          "metadata": {},
          "execution_count": 20
        }
      ]
    },
    {
      "cell_type": "code",
      "source": [
        "np.hsplit(a, [2])[1].shape"
      ],
      "metadata": {
        "colab": {
          "base_uri": "https://localhost:8080/"
        },
        "id": "JKU8zooL3ph0",
        "outputId": "769f8abf-1144-4c40-c3a6-1ca1d39ced23"
      },
      "execution_count": null,
      "outputs": [
        {
          "output_type": "execute_result",
          "data": {
            "text/plain": [
              "(2, 8)"
            ]
          },
          "metadata": {},
          "execution_count": 22
        }
      ]
    },
    {
      "cell_type": "code",
      "source": [
        "x, y = np.hsplit(a, [2])"
      ],
      "metadata": {
        "id": "Ax1J86PB34DV"
      },
      "execution_count": null,
      "outputs": []
    },
    {
      "cell_type": "code",
      "source": [
        "print(x)\n"
      ],
      "metadata": {
        "colab": {
          "base_uri": "https://localhost:8080/"
        },
        "id": "iXjsMSvP39-P",
        "outputId": "c883ab7d-8c68-4c8e-8c60-c3c9b64ed388"
      },
      "execution_count": null,
      "outputs": [
        {
          "output_type": "stream",
          "name": "stdout",
          "text": [
            "[[ 0  1]\n",
            " [10 11]]\n"
          ]
        }
      ]
    },
    {
      "cell_type": "code",
      "source": [
        "print(y)"
      ],
      "metadata": {
        "colab": {
          "base_uri": "https://localhost:8080/"
        },
        "id": "mginJsPy4DSr",
        "outputId": "9734d280-0152-44bb-aa84-a49fcd4b3df8"
      },
      "execution_count": null,
      "outputs": [
        {
          "output_type": "stream",
          "name": "stdout",
          "text": [
            "[[ 2  3  4  5  6  7  8  9]\n",
            " [12 13 14 15 16 17 18 19]]\n"
          ]
        }
      ]
    },
    {
      "cell_type": "code",
      "source": [
        "x, y, z = np.hsplit(a, [2,4]) #sütunları numaralandır. 2.index öncesine çentik at 4.index öncesine çentik at"
      ],
      "metadata": {
        "id": "5MgdJOum4YJP"
      },
      "execution_count": null,
      "outputs": []
    },
    {
      "cell_type": "code",
      "source": [
        "print(x)"
      ],
      "metadata": {
        "colab": {
          "base_uri": "https://localhost:8080/"
        },
        "id": "s3FqJXfx4g9F",
        "outputId": "9993c245-2857-4850-90a6-36d79e4a91d4"
      },
      "execution_count": null,
      "outputs": [
        {
          "output_type": "stream",
          "name": "stdout",
          "text": [
            "[[ 0  1]\n",
            " [10 11]]\n"
          ]
        }
      ]
    },
    {
      "cell_type": "code",
      "source": [
        "print(y)"
      ],
      "metadata": {
        "colab": {
          "base_uri": "https://localhost:8080/"
        },
        "id": "SC0gjMyF4jPg",
        "outputId": "b3ce26c4-8cf4-46a5-b7e6-b9f0802f267f"
      },
      "execution_count": null,
      "outputs": [
        {
          "output_type": "stream",
          "name": "stdout",
          "text": [
            "[[ 2  3]\n",
            " [12 13]]\n"
          ]
        }
      ]
    },
    {
      "cell_type": "code",
      "source": [
        "print(z)"
      ],
      "metadata": {
        "colab": {
          "base_uri": "https://localhost:8080/"
        },
        "id": "IIHvHTrZ4lfx",
        "outputId": "188fe0b0-5739-4e82-f521-925a57aa67b6"
      },
      "execution_count": null,
      "outputs": [
        {
          "output_type": "stream",
          "name": "stdout",
          "text": [
            "[[ 4  5  6  7  8  9]\n",
            " [14 15 16 17 18 19]]\n"
          ]
        }
      ]
    },
    {
      "cell_type": "markdown",
      "metadata": {
        "id": "3Bc8KYpRVr-j"
      },
      "source": [
        "### Slice indeksing"
      ]
    },
    {
      "cell_type": "code",
      "execution_count": 5,
      "metadata": {
        "id": "d74mnnqzVr-j",
        "outputId": "558dc393-cb1a-4b51-aaaa-ecaf94c7e99c",
        "colab": {
          "base_uri": "https://localhost:8080/"
        }
      },
      "outputs": [
        {
          "output_type": "execute_result",
          "data": {
            "text/plain": [
              "array([[ 1,  2,  3,  4],\n",
              "       [ 5,  6,  7,  8],\n",
              "       [ 9, 10, 11, 12]])"
            ]
          },
          "metadata": {},
          "execution_count": 5
        }
      ],
      "source": [
        "a=np.arange(1,13).reshape(3,4)\n",
        "a"
      ]
    },
    {
      "cell_type": "code",
      "source": [
        "a[0,0] #0.indexli row 0.columndaki eleman"
      ],
      "metadata": {
        "colab": {
          "base_uri": "https://localhost:8080/"
        },
        "id": "f0cB-nDTCLjw",
        "outputId": "12f4ab5e-26c3-439b-bf6e-1ff3ba6ca4fa"
      },
      "execution_count": null,
      "outputs": [
        {
          "output_type": "execute_result",
          "data": {
            "text/plain": [
              "np.int64(1)"
            ]
          },
          "metadata": {},
          "execution_count": 50
        }
      ]
    },
    {
      "cell_type": "code",
      "source": [
        "a[0][0]#0.indexli row 0.column"
      ],
      "metadata": {
        "colab": {
          "base_uri": "https://localhost:8080/"
        },
        "id": "PdBzlaUmCbTt",
        "outputId": "878ba7c8-f80d-41bf-efc4-9d4ecb6c67d9"
      },
      "execution_count": null,
      "outputs": [
        {
          "output_type": "execute_result",
          "data": {
            "text/plain": [
              "np.int64(1)"
            ]
          },
          "metadata": {},
          "execution_count": 51
        }
      ]
    },
    {
      "cell_type": "code",
      "execution_count": null,
      "metadata": {
        "id": "6xEZkKuaVr-k",
        "outputId": "37e6eafd-4fbb-47f1-9be0-8416e7339811",
        "colab": {
          "base_uri": "https://localhost:8080/"
        }
      },
      "outputs": [
        {
          "output_type": "execute_result",
          "data": {
            "text/plain": [
              "array([[1, 2, 3, 4],\n",
              "       [5, 6, 7, 8]])"
            ]
          },
          "metadata": {},
          "execution_count": 64
        }
      ],
      "source": [
        "# 0 satırı ile 2. satır arasındaki satırları yazdı. (2.satır dahil değil)\n",
        "a[0:2]"
      ]
    },
    {
      "cell_type": "code",
      "source": [
        "a[:1] #1.indexli row a kadar al"
      ],
      "metadata": {
        "colab": {
          "base_uri": "https://localhost:8080/"
        },
        "id": "lhJthj4yQ6aQ",
        "outputId": "8fc410f8-2370-42f4-b5fa-7781dfc6d7bd"
      },
      "execution_count": null,
      "outputs": [
        {
          "output_type": "execute_result",
          "data": {
            "text/plain": [
              "array([[1, 2, 3, 4]])"
            ]
          },
          "metadata": {},
          "execution_count": 67
        }
      ]
    },
    {
      "cell_type": "code",
      "source": [
        "#selects the first row of the array then selects the element at index 0 (the first element) from the selected row.\n",
        "a[:1,0]"
      ],
      "metadata": {
        "colab": {
          "base_uri": "https://localhost:8080/"
        },
        "id": "jNImpwtSQ9b1",
        "outputId": "c6f16aba-c24e-4a3c-dcef-7b0b99a61ea5"
      },
      "execution_count": null,
      "outputs": [
        {
          "output_type": "execute_result",
          "data": {
            "text/plain": [
              "array([1])"
            ]
          },
          "metadata": {},
          "execution_count": 68
        }
      ]
    },
    {
      "cell_type": "code",
      "execution_count": null,
      "metadata": {
        "id": "A0VOnbMJVr-l",
        "outputId": "f463e865-0088-46a6-f521-828c70c9a234",
        "colab": {
          "base_uri": "https://localhost:8080/"
        }
      },
      "outputs": [
        {
          "output_type": "execute_result",
          "data": {
            "text/plain": [
              "array([[ 1,  2,  3,  4],\n",
              "       [ 5,  6,  7,  8],\n",
              "       [ 9, 10, 11, 12]])"
            ]
          },
          "metadata": {},
          "execution_count": 148
        }
      ],
      "source": [
        "a[:] # bütün satır ve sütünu alır"
      ]
    },
    {
      "cell_type": "code",
      "execution_count": null,
      "metadata": {
        "id": "3JEOTSXOVr-l",
        "outputId": "ab461f25-9f80-49c8-e323-9d9f5ab75c3a",
        "colab": {
          "base_uri": "https://localhost:8080/"
        }
      },
      "outputs": [
        {
          "output_type": "execute_result",
          "data": {
            "text/plain": [
              "array([ 3,  7, 11])"
            ]
          },
          "metadata": {},
          "execution_count": 150
        }
      ],
      "source": [
        "#bütün satırları al ama 2.indexteki kolonu al\n",
        "a[:,2]"
      ]
    },
    {
      "cell_type": "code",
      "source": [
        "a[:,2].shape # sayı öbeği olarak döndürdü"
      ],
      "metadata": {
        "colab": {
          "base_uri": "https://localhost:8080/"
        },
        "id": "HF3oM4EoMzXt",
        "outputId": "839c6d49-f2df-46d2-c8e3-f1de0eef40e6"
      },
      "execution_count": null,
      "outputs": [
        {
          "output_type": "execute_result",
          "data": {
            "text/plain": [
              "(3,)"
            ]
          },
          "metadata": {},
          "execution_count": 60
        }
      ]
    },
    {
      "cell_type": "code",
      "source": [
        "a[1,:]"
      ],
      "metadata": {
        "colab": {
          "base_uri": "https://localhost:8080/"
        },
        "id": "YoO14cZcUrg2",
        "outputId": "338ee4a3-7136-45e2-9f5a-3aca7d03cb10"
      },
      "execution_count": null,
      "outputs": [
        {
          "output_type": "execute_result",
          "data": {
            "text/plain": [
              "array([5, 6, 7, 8])"
            ]
          },
          "metadata": {},
          "execution_count": 66
        }
      ]
    },
    {
      "cell_type": "code",
      "source": [
        "a[:2,:3]"
      ],
      "metadata": {
        "colab": {
          "base_uri": "https://localhost:8080/"
        },
        "id": "eZyESXaCXlO1",
        "outputId": "9f8eaa77-ddf5-409b-d6d9-f79875302b5d"
      },
      "execution_count": 8,
      "outputs": [
        {
          "output_type": "execute_result",
          "data": {
            "text/plain": [
              "array([[1, 2, 3],\n",
              "       [5, 6, 7]])"
            ]
          },
          "metadata": {},
          "execution_count": 8
        }
      ]
    },
    {
      "cell_type": "code",
      "execution_count": null,
      "metadata": {
        "id": "vlMUZsHQVr-m",
        "outputId": "c8b54c05-9fd8-48b1-ef9b-3f45668c39a4",
        "colab": {
          "base_uri": "https://localhost:8080/"
        }
      },
      "outputs": [
        {
          "output_type": "execute_result",
          "data": {
            "text/plain": [
              "array([[ 1,  2],\n",
              "       [ 5,  6],\n",
              "       [ 9, 10]])"
            ]
          },
          "metadata": {},
          "execution_count": 151
        }
      ],
      "source": [
        "#bütün satırları al ama 0'dan 2. kolona kadar olan sütünları al\n",
        "a[:,0:2]"
      ]
    },
    {
      "cell_type": "code",
      "source": [
        "a[0,2:4]#0.row un 2-4. index aralığındaki columnu"
      ],
      "metadata": {
        "colab": {
          "base_uri": "https://localhost:8080/"
        },
        "id": "-BCdbnyRV_kb",
        "outputId": "37ce192a-c491-413e-af1f-935775fd1a42"
      },
      "execution_count": null,
      "outputs": [
        {
          "output_type": "execute_result",
          "data": {
            "text/plain": [
              "array([3, 4])"
            ]
          },
          "metadata": {},
          "execution_count": 67
        }
      ]
    },
    {
      "cell_type": "code",
      "execution_count": null,
      "metadata": {
        "id": "hmL0EaZvVr-m",
        "outputId": "b3f325ce-0670-4e26-ef17-c11db21214dc",
        "colab": {
          "base_uri": "https://localhost:8080/"
        }
      },
      "outputs": [
        {
          "output_type": "execute_result",
          "data": {
            "text/plain": [
              "array([[1, 2],\n",
              "       [5, 6]])"
            ]
          },
          "metadata": {},
          "execution_count": 152
        }
      ],
      "source": [
        "a[0:2,0:2]"
      ]
    },
    {
      "cell_type": "code",
      "execution_count": null,
      "metadata": {
        "id": "e219drJjVr-n",
        "outputId": "66d2d42d-1cf5-4c36-9371-6ac3bba7a3a0",
        "colab": {
          "base_uri": "https://localhost:8080/"
        }
      },
      "outputs": [
        {
          "output_type": "execute_result",
          "data": {
            "text/plain": [
              "array([[ 1,  2,  3,  4],\n",
              "       [ 5,  6,  7,  8],\n",
              "       [ 9, 10, 11, 12]])"
            ]
          },
          "metadata": {},
          "execution_count": 153
        }
      ],
      "source": [
        "#bütün satırları ve bütün kolonlaru al\n",
        "a[:,:]"
      ]
    },
    {
      "cell_type": "code",
      "execution_count": null,
      "metadata": {
        "id": "GGnqXM9UVr-o",
        "outputId": "fd368132-c76a-469b-c75d-907037da01b2",
        "colab": {
          "base_uri": "https://localhost:8080/"
        }
      },
      "outputs": [
        {
          "output_type": "execute_result",
          "data": {
            "text/plain": [
              "array([3, 7])"
            ]
          },
          "metadata": {},
          "execution_count": 154
        }
      ],
      "source": [
        "a[0:2,2] #row column mantığı yok sayı öbeği döndürür"
      ]
    },
    {
      "cell_type": "code",
      "source": [
        "a[0:2,2].shape # sayı öbeği döndürdü"
      ],
      "metadata": {
        "colab": {
          "base_uri": "https://localhost:8080/"
        },
        "id": "ziP7tYbCcAqC",
        "outputId": "099e3356-7e51-4c58-e5b8-420d60a0fd46"
      },
      "execution_count": 6,
      "outputs": [
        {
          "output_type": "execute_result",
          "data": {
            "text/plain": [
              "(2,)"
            ]
          },
          "metadata": {},
          "execution_count": 6
        }
      ]
    },
    {
      "cell_type": "code",
      "source": [
        "a[::2,3]\n"
      ],
      "metadata": {
        "colab": {
          "base_uri": "https://localhost:8080/"
        },
        "id": "6V_EIkgcPTyx",
        "outputId": "a5264b5d-73ad-4bd4-f05f-e6a47b0ea721"
      },
      "execution_count": null,
      "outputs": [
        {
          "output_type": "execute_result",
          "data": {
            "text/plain": [
              "array([ 4, 12])"
            ]
          },
          "metadata": {},
          "execution_count": 62
        }
      ]
    },
    {
      "cell_type": "code",
      "source": [
        "a[::,2]"
      ],
      "metadata": {
        "colab": {
          "base_uri": "https://localhost:8080/"
        },
        "id": "3_luK4K_Xz0Y",
        "outputId": "3c5165fd-978d-4dfc-d48f-e2b9705a1dc2"
      },
      "execution_count": null,
      "outputs": [
        {
          "output_type": "execute_result",
          "data": {
            "text/plain": [
              "array([ 3,  7, 11])"
            ]
          },
          "metadata": {},
          "execution_count": 69
        }
      ]
    },
    {
      "cell_type": "code",
      "source": [
        "a[::2]"
      ],
      "metadata": {
        "id": "3S1bH7ujZ1Qq",
        "outputId": "5dff8e94-12ba-413b-bb98-dea45fb367f9",
        "colab": {
          "base_uri": "https://localhost:8080/"
        }
      },
      "execution_count": null,
      "outputs": [
        {
          "output_type": "execute_result",
          "data": {
            "text/plain": [
              "array([[ 1,  2,  3,  4],\n",
              "       [ 9, 10, 11, 12]])"
            ]
          },
          "metadata": {},
          "execution_count": 70
        }
      ]
    },
    {
      "cell_type": "code",
      "source": [
        "a[1,1] = 10 # elemanı değiştirme. [1][1]indexdeki değer değişti\n",
        "a"
      ],
      "metadata": {
        "colab": {
          "base_uri": "https://localhost:8080/"
        },
        "id": "J4-r2rlSDNP-",
        "outputId": "98d2241c-367c-41f6-e112-466f5aba8f73"
      },
      "execution_count": null,
      "outputs": [
        {
          "output_type": "execute_result",
          "data": {
            "text/plain": [
              "array([[ 1,  2,  3,  4],\n",
              "       [ 5, 10,  7,  8],\n",
              "       [ 9, 10, 11, 12]])"
            ]
          },
          "metadata": {},
          "execution_count": 53
        }
      ]
    },
    {
      "cell_type": "code",
      "source": [
        "#Array'in veri tipi neyse ona cast olur, array in veri tipini dönüştürmez\n",
        "a[1][1] = 20.4 # sadece int kısmı alınır\n",
        "a"
      ],
      "metadata": {
        "colab": {
          "base_uri": "https://localhost:8080/"
        },
        "id": "pJoD1ZUeDsow",
        "outputId": "28099d7a-b027-4dc1-ccdb-300e0c7acb09"
      },
      "execution_count": null,
      "outputs": [
        {
          "output_type": "execute_result",
          "data": {
            "text/plain": [
              "array([[ 1,  2,  3,  4],\n",
              "       [ 5, 20,  7,  8],\n",
              "       [ 9, 10, 11, 12]])"
            ]
          },
          "metadata": {},
          "execution_count": 55
        }
      ]
    },
    {
      "cell_type": "code",
      "source": [
        "a[1][1] = \"21\" # str int a cast oldu\n",
        "a"
      ],
      "metadata": {
        "colab": {
          "base_uri": "https://localhost:8080/"
        },
        "id": "XTplk77gLpCl",
        "outputId": "37d74a04-9578-4900-fd0b-e2af14532530"
      },
      "execution_count": null,
      "outputs": [
        {
          "output_type": "execute_result",
          "data": {
            "text/plain": [
              "array([[ 1,  2,  3,  4],\n",
              "       [ 5, 21,  7,  8],\n",
              "       [ 9, 10, 11, 12]])"
            ]
          },
          "metadata": {},
          "execution_count": 56
        }
      ]
    },
    {
      "cell_type": "code",
      "source": [
        "a[1][1] = \"21.4\"\n",
        "a"
      ],
      "metadata": {
        "colab": {
          "base_uri": "https://localhost:8080/",
          "height": 158
        },
        "id": "iaWvNra1L04I",
        "outputId": "82c95bb7-4497-441d-be00-dc1983f899a0"
      },
      "execution_count": null,
      "outputs": [
        {
          "output_type": "error",
          "ename": "ValueError",
          "evalue": "invalid literal for int() with base 10: '21.4'",
          "traceback": [
            "\u001b[0;31m---------------------------------------------------------------------------\u001b[0m",
            "\u001b[0;31mValueError\u001b[0m                                Traceback (most recent call last)",
            "\u001b[0;32m/tmp/ipython-input-3150652518.py\u001b[0m in \u001b[0;36m<cell line: 0>\u001b[0;34m()\u001b[0m\n\u001b[0;32m----> 1\u001b[0;31m \u001b[0ma\u001b[0m\u001b[0;34m[\u001b[0m\u001b[0;36m1\u001b[0m\u001b[0;34m]\u001b[0m\u001b[0;34m[\u001b[0m\u001b[0;36m1\u001b[0m\u001b[0;34m]\u001b[0m \u001b[0;34m=\u001b[0m \u001b[0;34m\"21.4\"\u001b[0m\u001b[0;34m\u001b[0m\u001b[0;34m\u001b[0m\u001b[0m\n\u001b[0m\u001b[1;32m      2\u001b[0m \u001b[0ma\u001b[0m\u001b[0;34m\u001b[0m\u001b[0;34m\u001b[0m\u001b[0m\n",
            "\u001b[0;31mValueError\u001b[0m: invalid literal for int() with base 10: '21.4'"
          ]
        }
      ]
    },
    {
      "cell_type": "code",
      "source": [
        "a[1][1] = \"a\"\n",
        "a"
      ],
      "metadata": {
        "colab": {
          "base_uri": "https://localhost:8080/",
          "height": 158
        },
        "id": "auNbWiljL5gO",
        "outputId": "f2aa96c4-eaff-4b30-c819-b62228083d2d"
      },
      "execution_count": null,
      "outputs": [
        {
          "output_type": "error",
          "ename": "ValueError",
          "evalue": "invalid literal for int() with base 10: 'a'",
          "traceback": [
            "\u001b[0;31m---------------------------------------------------------------------------\u001b[0m",
            "\u001b[0;31mValueError\u001b[0m                                Traceback (most recent call last)",
            "\u001b[0;32m/tmp/ipython-input-2207360971.py\u001b[0m in \u001b[0;36m<cell line: 0>\u001b[0;34m()\u001b[0m\n\u001b[0;32m----> 1\u001b[0;31m \u001b[0ma\u001b[0m\u001b[0;34m[\u001b[0m\u001b[0;36m1\u001b[0m\u001b[0;34m]\u001b[0m\u001b[0;34m[\u001b[0m\u001b[0;36m1\u001b[0m\u001b[0;34m]\u001b[0m \u001b[0;34m=\u001b[0m \u001b[0;34m\"a\"\u001b[0m\u001b[0;34m\u001b[0m\u001b[0;34m\u001b[0m\u001b[0m\n\u001b[0m\u001b[1;32m      2\u001b[0m \u001b[0ma\u001b[0m\u001b[0;34m\u001b[0m\u001b[0;34m\u001b[0m\u001b[0m\n",
            "\u001b[0;31mValueError\u001b[0m: invalid literal for int() with base 10: 'a'"
          ]
        }
      ]
    },
    {
      "cell_type": "markdown",
      "source": [
        "###Fancy Indexing\n",
        "\n",
        "Birkaç tane belirli indexteki elemanı döndürür. İstediğin idndexteki elemanları seçersin"
      ],
      "metadata": {
        "id": "JZJmWcR7nzDt"
      }
    },
    {
      "cell_type": "code",
      "source": [
        "x = np.arange(1,15)\n",
        "x"
      ],
      "metadata": {
        "colab": {
          "base_uri": "https://localhost:8080/"
        },
        "id": "9bK9dMI4oFvJ",
        "outputId": "fce4077e-b313-4317-c512-3f5a66aaf43a"
      },
      "execution_count": 2,
      "outputs": [
        {
          "output_type": "execute_result",
          "data": {
            "text/plain": [
              "array([ 1,  2,  3,  4,  5,  6,  7,  8,  9, 10, 11, 12, 13, 14])"
            ]
          },
          "metadata": {},
          "execution_count": 2
        }
      ]
    },
    {
      "cell_type": "code",
      "source": [
        "wanted_idxs = [4,5,7,11] #4. 5. 7. ve 11. indexteki elemanları döndürür\n",
        "x[wanted_idxs]"
      ],
      "metadata": {
        "colab": {
          "base_uri": "https://localhost:8080/"
        },
        "id": "jizj63vUap0a",
        "outputId": "5839247b-8774-4193-b42d-821982287bc7"
      },
      "execution_count": 3,
      "outputs": [
        {
          "output_type": "execute_result",
          "data": {
            "text/plain": [
              "array([ 5,  6,  8, 12])"
            ]
          },
          "metadata": {},
          "execution_count": 3
        }
      ]
    },
    {
      "cell_type": "code",
      "source": [
        "a = np.arange(12).reshape(3,4)\n",
        "a"
      ],
      "metadata": {
        "colab": {
          "base_uri": "https://localhost:8080/"
        },
        "id": "EuDPovfKcUX5",
        "outputId": "60f2a7c4-e9ea-4f56-ea75-2fe60dd1d2cb"
      },
      "execution_count": 9,
      "outputs": [
        {
          "output_type": "execute_result",
          "data": {
            "text/plain": [
              "array([[ 0,  1,  2,  3],\n",
              "       [ 4,  5,  6,  7],\n",
              "       [ 8,  9, 10, 11]])"
            ]
          },
          "metadata": {},
          "execution_count": 9
        }
      ]
    },
    {
      "cell_type": "code",
      "source": [
        "a[0, [1,3]] # 0. indexteki row u al ve 1. ile 3. indexteki columu al"
      ],
      "metadata": {
        "colab": {
          "base_uri": "https://localhost:8080/"
        },
        "id": "QtjRxOQuchjb",
        "outputId": "153e6687-e04e-42eb-9bf3-a2267b46b262"
      },
      "execution_count": 10,
      "outputs": [
        {
          "output_type": "execute_result",
          "data": {
            "text/plain": [
              "array([1, 3])"
            ]
          },
          "metadata": {},
          "execution_count": 10
        }
      ]
    },
    {
      "cell_type": "code",
      "source": [
        "a[0, [1,3]].shape # sayı öbeği olarak döner"
      ],
      "metadata": {
        "colab": {
          "base_uri": "https://localhost:8080/"
        },
        "id": "g9gFj6lcdCcF",
        "outputId": "09db51cf-77eb-4654-a337-5d50ef1e8790"
      },
      "execution_count": 12,
      "outputs": [
        {
          "output_type": "execute_result",
          "data": {
            "text/plain": [
              "(2,)"
            ]
          },
          "metadata": {},
          "execution_count": 12
        }
      ]
    },
    {
      "cell_type": "code",
      "source": [
        "a[0, [1,3]].ndim"
      ],
      "metadata": {
        "colab": {
          "base_uri": "https://localhost:8080/"
        },
        "id": "0Rur5sjRc9V9",
        "outputId": "9b37f752-f192-4e40-e59e-e859e35e351d"
      },
      "execution_count": 11,
      "outputs": [
        {
          "output_type": "execute_result",
          "data": {
            "text/plain": [
              "1"
            ]
          },
          "metadata": {},
          "execution_count": 11
        }
      ]
    },
    {
      "cell_type": "code",
      "source": [
        "a[0:, [1,3]] #tüm row lara bak ve 1. ile 3. column u al"
      ],
      "metadata": {
        "colab": {
          "base_uri": "https://localhost:8080/"
        },
        "id": "lv6cskO7dXol",
        "outputId": "bd61bae3-2dc6-4a95-c79d-5cd49a39e050"
      },
      "execution_count": 13,
      "outputs": [
        {
          "output_type": "execute_result",
          "data": {
            "text/plain": [
              "array([[ 1,  3],\n",
              "       [ 5,  7],\n",
              "       [ 9, 11]])"
            ]
          },
          "metadata": {},
          "execution_count": 13
        }
      ]
    },
    {
      "cell_type": "code",
      "source": [
        "a[:, [1,3]] # 0 yazmana gerek yok zaten default"
      ],
      "metadata": {
        "colab": {
          "base_uri": "https://localhost:8080/"
        },
        "id": "BiElIuk6ePpg",
        "outputId": "f33bf814-a8c8-436f-cead-e21be0fac900"
      },
      "execution_count": 15,
      "outputs": [
        {
          "output_type": "execute_result",
          "data": {
            "text/plain": [
              "array([[ 1,  3],\n",
              "       [ 5,  7],\n",
              "       [ 9, 11]])"
            ]
          },
          "metadata": {},
          "execution_count": 15
        }
      ]
    },
    {
      "cell_type": "code",
      "source": [
        "idx1 = [0,1,2] # bu indexleri al-> row olacak\n",
        "idx2 = [0,1,3] #bu indexleri al -> column\n",
        "a[idx1,idx2] #Fancy index virgülle olur, row column indexleri olarak seçildi"
      ],
      "metadata": {
        "colab": {
          "base_uri": "https://localhost:8080/"
        },
        "id": "0-2KP3gbemsH",
        "outputId": "1e415365-6304-4719-e0b3-d9cb9dca6e5c"
      },
      "execution_count": 19,
      "outputs": [
        {
          "output_type": "execute_result",
          "data": {
            "text/plain": [
              "array([ 0,  5, 11])"
            ]
          },
          "metadata": {},
          "execution_count": 19
        }
      ]
    },
    {
      "cell_type": "code",
      "source": [
        "a[idx1][idx2] # bu şekilde row ve column seçilmiyor"
      ],
      "metadata": {
        "colab": {
          "base_uri": "https://localhost:8080/",
          "height": 141
        },
        "id": "Iu5YlJ-SfmNa",
        "outputId": "4b72f7a5-c2df-47e1-af8d-588fa49e95b0"
      },
      "execution_count": 20,
      "outputs": [
        {
          "output_type": "error",
          "ename": "IndexError",
          "evalue": "index 3 is out of bounds for axis 0 with size 3",
          "traceback": [
            "\u001b[0;31m---------------------------------------------------------------------------\u001b[0m",
            "\u001b[0;31mIndexError\u001b[0m                                Traceback (most recent call last)",
            "\u001b[0;32m/tmp/ipython-input-2376246627.py\u001b[0m in \u001b[0;36m<cell line: 0>\u001b[0;34m()\u001b[0m\n\u001b[0;32m----> 1\u001b[0;31m \u001b[0ma\u001b[0m\u001b[0;34m[\u001b[0m\u001b[0midx1\u001b[0m\u001b[0;34m]\u001b[0m\u001b[0;34m[\u001b[0m\u001b[0midx2\u001b[0m\u001b[0;34m]\u001b[0m\u001b[0;34m\u001b[0m\u001b[0;34m\u001b[0m\u001b[0m\n\u001b[0m",
            "\u001b[0;31mIndexError\u001b[0m: index 3 is out of bounds for axis 0 with size 3"
          ]
        }
      ]
    },
    {
      "cell_type": "markdown",
      "source": [
        "**Fancy indexing sonucunu belirli değerlere eşitlemek**"
      ],
      "metadata": {
        "id": "TTOdpZOsg-HM"
      }
    },
    {
      "cell_type": "code",
      "source": [
        "x"
      ],
      "metadata": {
        "colab": {
          "base_uri": "https://localhost:8080/"
        },
        "id": "UK3KHAAwhGpv",
        "outputId": "4454b4ce-d018-49df-a98d-96f5401ff95f"
      },
      "execution_count": 21,
      "outputs": [
        {
          "output_type": "execute_result",
          "data": {
            "text/plain": [
              "array([ 1,  2,  3,  4,  5,  6,  7,  8,  9, 10, 11, 12, 13, 14])"
            ]
          },
          "metadata": {},
          "execution_count": 21
        }
      ]
    },
    {
      "cell_type": "code",
      "source": [
        "x[[1,2,3]] = 20\n",
        "x"
      ],
      "metadata": {
        "colab": {
          "base_uri": "https://localhost:8080/"
        },
        "id": "M4Uv-S09hKPs",
        "outputId": "20aae1d4-2a6d-4175-f72b-688a8d1392aa"
      },
      "execution_count": 24,
      "outputs": [
        {
          "output_type": "execute_result",
          "data": {
            "text/plain": [
              "array([ 1, 20, 20, 20,  5,  6,  7,  8,  9, 10, 11, 12, 13, 14])"
            ]
          },
          "metadata": {},
          "execution_count": 24
        }
      ]
    },
    {
      "cell_type": "code",
      "source": [
        "x[[1,2,3]] = [100,200,300]\n",
        "x"
      ],
      "metadata": {
        "colab": {
          "base_uri": "https://localhost:8080/"
        },
        "id": "mXnLyonZhfA6",
        "outputId": "ccaca07a-8a51-4809-e685-7976d3339d4b"
      },
      "execution_count": 28,
      "outputs": [
        {
          "output_type": "execute_result",
          "data": {
            "text/plain": [
              "array([  1, 100, 200, 300,   5,   6,   7,   8,   9,  10,  11,  12,  13,\n",
              "        14])"
            ]
          },
          "metadata": {},
          "execution_count": 28
        }
      ]
    },
    {
      "cell_type": "code",
      "source": [
        "a=np.arange(1,13).reshape(3,4)\n",
        "a"
      ],
      "metadata": {
        "colab": {
          "base_uri": "https://localhost:8080/"
        },
        "id": "SAI2IdQUiQJi",
        "outputId": "5dfd4ae6-39a8-4dc7-c81d-da7a43b362dd"
      },
      "execution_count": 35,
      "outputs": [
        {
          "output_type": "execute_result",
          "data": {
            "text/plain": [
              "array([[ 1,  2,  3,  4],\n",
              "       [ 5,  6,  7,  8],\n",
              "       [ 9, 10, 11, 12]])"
            ]
          },
          "metadata": {},
          "execution_count": 35
        }
      ]
    },
    {
      "cell_type": "code",
      "source": [
        "b=a[1,1:3] #index 1 deki row ile 1. dahil 3. dahil olmayan column\n",
        "b"
      ],
      "metadata": {
        "colab": {
          "base_uri": "https://localhost:8080/"
        },
        "id": "kEsBU-iejxrS",
        "outputId": "6e1c6528-92bd-4ed4-9038-9f59ee8802cd"
      },
      "execution_count": 39,
      "outputs": [
        {
          "output_type": "execute_result",
          "data": {
            "text/plain": [
              "array([6, 7])"
            ]
          },
          "metadata": {},
          "execution_count": 39
        }
      ]
    },
    {
      "cell_type": "code",
      "source": [
        "b=a[1,[1,3]] # fancy indexing, Correct usage\n",
        "b"
      ],
      "metadata": {
        "colab": {
          "base_uri": "https://localhost:8080/"
        },
        "id": "3HxBp59GkGHL",
        "outputId": "81f02539-9bad-4ad6-e234-0b67500db5bb"
      },
      "execution_count": 42,
      "outputs": [
        {
          "output_type": "execute_result",
          "data": {
            "text/plain": [
              "array([6, 8])"
            ]
          },
          "metadata": {},
          "execution_count": 42
        }
      ]
    },
    {
      "cell_type": "code",
      "source": [
        "# Do NOT use this one, it is tuple not fancy indexin\n",
        "b=a[1,(1,3)] #Tuple olarak verilmiş, hatalı kullanımdır index 1 deki row ve 1. ile 3. indexteki columndak elemanlar\n",
        "b"
      ],
      "metadata": {
        "colab": {
          "base_uri": "https://localhost:8080/"
        },
        "id": "dYJC-wfvjdJg",
        "outputId": "607ba3c3-3370-4c44-e377-f9d8ac4ed996"
      },
      "execution_count": 36,
      "outputs": [
        {
          "output_type": "execute_result",
          "data": {
            "text/plain": [
              "array([6, 8])"
            ]
          },
          "metadata": {},
          "execution_count": 36
        }
      ]
    },
    {
      "cell_type": "markdown",
      "source": [
        "##**Sorting**"
      ],
      "metadata": {
        "id": "lqiuPNwG70k5"
      }
    },
    {
      "cell_type": "code",
      "source": [
        "array1= np.array([20,32,5,30,10])\n",
        "array1"
      ],
      "metadata": {
        "colab": {
          "base_uri": "https://localhost:8080/"
        },
        "id": "wrmBjNY174U5",
        "outputId": "8b2e6f92-867f-46a4-81a2-9a6f9fb16e2a"
      },
      "execution_count": null,
      "outputs": [
        {
          "output_type": "execute_result",
          "data": {
            "text/plain": [
              "array([20, 32,  5, 30, 10])"
            ]
          },
          "metadata": {},
          "execution_count": 40
        }
      ]
    },
    {
      "cell_type": "code",
      "source": [
        "np.sort(array1) # array in değeri güncellenmez"
      ],
      "metadata": {
        "colab": {
          "base_uri": "https://localhost:8080/"
        },
        "id": "BKsMThgn8HCO",
        "outputId": "3269a815-66b3-4795-8ce8-f2dee4cae9fa"
      },
      "execution_count": null,
      "outputs": [
        {
          "output_type": "execute_result",
          "data": {
            "text/plain": [
              "array([ 5, 10, 20, 30, 32])"
            ]
          },
          "metadata": {},
          "execution_count": 41
        }
      ]
    },
    {
      "cell_type": "code",
      "source": [
        "array1"
      ],
      "metadata": {
        "colab": {
          "base_uri": "https://localhost:8080/"
        },
        "id": "G9xTwfOB8LeC",
        "outputId": "051f5242-6a69-4a9e-9d4b-bbc65591af66"
      },
      "execution_count": null,
      "outputs": [
        {
          "output_type": "execute_result",
          "data": {
            "text/plain": [
              "array([20, 32,  5, 30, 10])"
            ]
          },
          "metadata": {},
          "execution_count": 42
        }
      ]
    },
    {
      "cell_type": "code",
      "source": [
        "# array i sort edilmiş şeklinde güncellemek için\n",
        "array1.sort()\n",
        "array1"
      ],
      "metadata": {
        "colab": {
          "base_uri": "https://localhost:8080/"
        },
        "id": "mudT4L0s8WOw",
        "outputId": "f8f151fd-3f1d-4082-cc59-a161c88d15fa"
      },
      "execution_count": null,
      "outputs": [
        {
          "output_type": "execute_result",
          "data": {
            "text/plain": [
              "array([ 5, 10, 20, 30, 32])"
            ]
          },
          "metadata": {},
          "execution_count": 46
        }
      ]
    },
    {
      "cell_type": "markdown",
      "source": [
        "###**argsort**\n",
        "\n",
        "Sıraladıktan sonra indexleri döndürür"
      ],
      "metadata": {
        "id": "3ZGeeME68gRB"
      }
    },
    {
      "cell_type": "code",
      "source": [
        "array2= np.array([3,1,6,7,2])\n",
        "array2"
      ],
      "metadata": {
        "colab": {
          "base_uri": "https://localhost:8080/"
        },
        "id": "_-Kh6Zns8mbh",
        "outputId": "62fbf700-1894-4520-d7a6-47d0dca20d0a"
      },
      "execution_count": null,
      "outputs": [
        {
          "output_type": "execute_result",
          "data": {
            "text/plain": [
              "array([3, 1, 6, 7, 2])"
            ]
          },
          "metadata": {},
          "execution_count": 47
        }
      ]
    },
    {
      "cell_type": "code",
      "source": [
        "#küçükten büyüğe sıralayıp elemanların indexini döndürür\n",
        "idxs = np.argsort(array2)\n",
        "idxs"
      ],
      "metadata": {
        "colab": {
          "base_uri": "https://localhost:8080/"
        },
        "id": "bLP61COL80h-",
        "outputId": "e65f3fb8-ee18-4ffa-da5f-b9f0f0f474e7"
      },
      "execution_count": null,
      "outputs": [
        {
          "output_type": "execute_result",
          "data": {
            "text/plain": [
              "array([1, 4, 0, 2, 3])"
            ]
          },
          "metadata": {},
          "execution_count": 48
        }
      ]
    },
    {
      "cell_type": "markdown",
      "source": [
        "##**Subarray**"
      ],
      "metadata": {
        "id": "QjmcUtFjl_7n"
      }
    },
    {
      "cell_type": "code",
      "source": [
        "a = np.arange(1,21).reshape(4,5)\n",
        "a"
      ],
      "metadata": {
        "colab": {
          "base_uri": "https://localhost:8080/"
        },
        "id": "BPPask_Hl_T6",
        "outputId": "e1cdc39c-8741-45e4-a9eb-7e553e93762a"
      },
      "execution_count": 43,
      "outputs": [
        {
          "output_type": "execute_result",
          "data": {
            "text/plain": [
              "array([[ 1,  2,  3,  4,  5],\n",
              "       [ 6,  7,  8,  9, 10],\n",
              "       [11, 12, 13, 14, 15],\n",
              "       [16, 17, 18, 19, 20]])"
            ]
          },
          "metadata": {},
          "execution_count": 43
        }
      ]
    },
    {
      "cell_type": "code",
      "source": [
        "b = a[:2, :3]\n",
        "b"
      ],
      "metadata": {
        "colab": {
          "base_uri": "https://localhost:8080/"
        },
        "id": "YBsUTFGxnQXq",
        "outputId": "9eddd318-d14d-47fc-a43b-0631f58d7c19"
      },
      "execution_count": 44,
      "outputs": [
        {
          "output_type": "execute_result",
          "data": {
            "text/plain": [
              "array([[1, 2, 3],\n",
              "       [6, 7, 8]])"
            ]
          },
          "metadata": {},
          "execution_count": 44
        }
      ]
    },
    {
      "cell_type": "code",
      "source": [
        "b.ndim"
      ],
      "metadata": {
        "colab": {
          "base_uri": "https://localhost:8080/"
        },
        "id": "yjhMQbCYnXi_",
        "outputId": "935b12fd-9bb2-4f8b-aa29-9e5c0e18359b"
      },
      "execution_count": 45,
      "outputs": [
        {
          "output_type": "execute_result",
          "data": {
            "text/plain": [
              "2"
            ]
          },
          "metadata": {},
          "execution_count": 45
        }
      ]
    },
    {
      "cell_type": "code",
      "source": [
        "b[0,0] = 100 #when we change the b's element\n",
        "b"
      ],
      "metadata": {
        "colab": {
          "base_uri": "https://localhost:8080/"
        },
        "id": "BO0m3RxPncjz",
        "outputId": "007ff758-e962-449d-e81d-8f90cef2e4d5"
      },
      "execution_count": 46,
      "outputs": [
        {
          "output_type": "execute_result",
          "data": {
            "text/plain": [
              "array([[100,   2,   3],\n",
              "       [  6,   7,   8]])"
            ]
          },
          "metadata": {},
          "execution_count": 46
        }
      ]
    },
    {
      "cell_type": "code",
      "source": [
        "a #a's element also changed, they use same memory"
      ],
      "metadata": {
        "colab": {
          "base_uri": "https://localhost:8080/"
        },
        "id": "SmYAPxAdncRa",
        "outputId": "657ad986-ff10-4a30-a789-128632c158de"
      },
      "execution_count": 47,
      "outputs": [
        {
          "output_type": "execute_result",
          "data": {
            "text/plain": [
              "array([[100,   2,   3,   4,   5],\n",
              "       [  6,   7,   8,   9,  10],\n",
              "       [ 11,  12,  13,  14,  15],\n",
              "       [ 16,  17,  18,  19,  20]])"
            ]
          },
          "metadata": {},
          "execution_count": 47
        }
      ]
    },
    {
      "cell_type": "markdown",
      "source": [
        "##**Copy**\n",
        "\n",
        "Subarray ed aynı memory adresi kullanıldığı için bu yöntemle ilk array i değiştirmeden işlem yapılır."
      ],
      "metadata": {
        "id": "CQH57q8Nn_IY"
      }
    },
    {
      "cell_type": "code",
      "source": [
        "a = np.arange(1,21).reshape(4,5)\n",
        "a"
      ],
      "metadata": {
        "colab": {
          "base_uri": "https://localhost:8080/"
        },
        "id": "mipJe69zqd8j",
        "outputId": "21333074-9219-43de-e303-75859a875ffa"
      },
      "execution_count": 51,
      "outputs": [
        {
          "output_type": "execute_result",
          "data": {
            "text/plain": [
              "array([[ 1,  2,  3,  4,  5],\n",
              "       [ 6,  7,  8,  9, 10],\n",
              "       [11, 12, 13, 14, 15],\n",
              "       [16, 17, 18, 19, 20]])"
            ]
          },
          "metadata": {},
          "execution_count": 51
        }
      ]
    },
    {
      "cell_type": "code",
      "source": [
        "c = a[:2, :3].copy()\n",
        "c"
      ],
      "metadata": {
        "colab": {
          "base_uri": "https://localhost:8080/"
        },
        "id": "6AS2esABqCys",
        "outputId": "3eae6734-9acb-4cdf-dd44-f7537925fc3e"
      },
      "execution_count": 52,
      "outputs": [
        {
          "output_type": "execute_result",
          "data": {
            "text/plain": [
              "array([[1, 2, 3],\n",
              "       [6, 7, 8]])"
            ]
          },
          "metadata": {},
          "execution_count": 52
        }
      ]
    },
    {
      "cell_type": "code",
      "source": [
        "c[0,0]= 100 # c array i değişti\n",
        "c"
      ],
      "metadata": {
        "colab": {
          "base_uri": "https://localhost:8080/"
        },
        "id": "nHnJNs7Jqi-U",
        "outputId": "a05a15f9-8a4f-4972-ef75-f4476d4ad3e3"
      },
      "execution_count": 53,
      "outputs": [
        {
          "output_type": "execute_result",
          "data": {
            "text/plain": [
              "array([[100,   2,   3],\n",
              "       [  6,   7,   8]])"
            ]
          },
          "metadata": {},
          "execution_count": 53
        }
      ]
    },
    {
      "cell_type": "code",
      "source": [
        "a # bu sefer a arrayi değişmedi"
      ],
      "metadata": {
        "colab": {
          "base_uri": "https://localhost:8080/"
        },
        "id": "Qkf5pRMcoEV1",
        "outputId": "3a065c53-d18b-4e3c-cfda-80ee948f951f"
      },
      "execution_count": 55,
      "outputs": [
        {
          "output_type": "execute_result",
          "data": {
            "text/plain": [
              "array([[ 1,  2,  3,  4,  5],\n",
              "       [ 6,  7,  8,  9, 10],\n",
              "       [11, 12, 13, 14, 15],\n",
              "       [16, 17, 18, 19, 20]])"
            ]
          },
          "metadata": {},
          "execution_count": 55
        }
      ]
    },
    {
      "cell_type": "markdown",
      "source": [
        "###**Conditional Indexing**"
      ],
      "metadata": {
        "id": "u8fjElJBr0Cd"
      }
    },
    {
      "cell_type": "markdown",
      "metadata": {
        "id": "vNbrIGfAVr-o"
      },
      "source": [
        "# filter"
      ]
    },
    {
      "cell_type": "code",
      "execution_count": 3,
      "metadata": {
        "id": "oNNNDHvdVr-p",
        "outputId": "95fa88cd-bbf9-4380-ef6d-1936ea8bf347",
        "colab": {
          "base_uri": "https://localhost:8080/"
        }
      },
      "outputs": [
        {
          "output_type": "execute_result",
          "data": {
            "text/plain": [
              "array([1, 2, 3, 4, 5, 6, 7, 8, 9])"
            ]
          },
          "metadata": {},
          "execution_count": 3
        }
      ],
      "source": [
        "a=np.arange(1,10)\n",
        "a"
      ]
    },
    {
      "cell_type": "code",
      "execution_count": 5,
      "metadata": {
        "id": "4FESBULfVr-p",
        "outputId": "e0a71aa3-173b-45cb-af33-28c0971afec0",
        "colab": {
          "base_uri": "https://localhost:8080/"
        }
      },
      "outputs": [
        {
          "output_type": "execute_result",
          "data": {
            "text/plain": [
              "array([ True,  True,  True,  True, False, False, False, False, False])"
            ]
          },
          "metadata": {},
          "execution_count": 5
        }
      ],
      "source": [
        "a < 7"
      ]
    },
    {
      "cell_type": "code",
      "execution_count": 6,
      "metadata": {
        "id": "MngHW5HqVr-r",
        "outputId": "6c9a8fde-645d-46d6-e488-e9c8eafe4e80",
        "colab": {
          "base_uri": "https://localhost:8080/"
        }
      },
      "outputs": [
        {
          "output_type": "execute_result",
          "data": {
            "text/plain": [
              "array([1, 2, 3, 4, 5, 6])"
            ]
          },
          "metadata": {},
          "execution_count": 6
        }
      ],
      "source": [
        "# 7 den küçük değerlere ulaştık\n",
        "a[a<7]"
      ]
    },
    {
      "cell_type": "code",
      "execution_count": 8,
      "metadata": {
        "id": "2ukYE8q4Vr-s"
      },
      "outputs": [],
      "source": [
        "filt= a < 5"
      ]
    },
    {
      "cell_type": "code",
      "source": [
        "filt"
      ],
      "metadata": {
        "colab": {
          "base_uri": "https://localhost:8080/"
        },
        "id": "LFkQR31y9mgz",
        "outputId": "145512a7-20b6-41fd-b723-06dbb1c26ce5"
      },
      "execution_count": 9,
      "outputs": [
        {
          "output_type": "execute_result",
          "data": {
            "text/plain": [
              "array([ True,  True,  True,  True, False, False, False, False, False])"
            ]
          },
          "metadata": {},
          "execution_count": 9
        }
      ]
    },
    {
      "cell_type": "code",
      "execution_count": 10,
      "metadata": {
        "id": "WgZrNBBYVr-t",
        "outputId": "3c2592a8-199d-4f43-e108-12e59560c86e",
        "colab": {
          "base_uri": "https://localhost:8080/"
        }
      },
      "outputs": [
        {
          "output_type": "execute_result",
          "data": {
            "text/plain": [
              "array([1, 2, 3, 4])"
            ]
          },
          "metadata": {},
          "execution_count": 10
        }
      ],
      "source": [
        "a[filt]"
      ]
    },
    {
      "cell_type": "code",
      "execution_count": null,
      "metadata": {
        "id": "-FnvvtwEVr-u"
      },
      "outputs": [],
      "source": [
        "#array tipinde and = &\n",
        "filt= (a>5) & (a<9)"
      ]
    },
    {
      "cell_type": "code",
      "execution_count": null,
      "metadata": {
        "id": "A-_YqqaKVr-v",
        "outputId": "3b8aa174-8912-423c-8744-c4d0fd0783ea",
        "colab": {
          "base_uri": "https://localhost:8080/"
        }
      },
      "outputs": [
        {
          "output_type": "execute_result",
          "data": {
            "text/plain": [
              "array([6, 7, 8])"
            ]
          },
          "metadata": {},
          "execution_count": 74
        }
      ],
      "source": [
        "a[filt]"
      ]
    },
    {
      "cell_type": "code",
      "execution_count": null,
      "metadata": {
        "id": "hNaiO5TuVr-v"
      },
      "outputs": [],
      "source": [
        "#array tipinde or = |\n",
        "filt= (a<5) | (a>8)"
      ]
    },
    {
      "cell_type": "code",
      "execution_count": null,
      "metadata": {
        "id": "h9vL4cyzVr-w",
        "outputId": "3f465b8a-2857-41bb-acb5-757a6241a156",
        "colab": {
          "base_uri": "https://localhost:8080/"
        }
      },
      "outputs": [
        {
          "output_type": "execute_result",
          "data": {
            "text/plain": [
              "array([1, 2, 3, 4, 9])"
            ]
          },
          "metadata": {},
          "execution_count": 163
        }
      ],
      "source": [
        "a[filt]"
      ]
    },
    {
      "cell_type": "code",
      "execution_count": null,
      "metadata": {
        "id": "DROHz2YZVr-w"
      },
      "outputs": [],
      "source": [
        "#filtrenin değili (a<5 dışında kalanlar)\n",
        "filt= ~(a<5)"
      ]
    },
    {
      "cell_type": "code",
      "execution_count": null,
      "metadata": {
        "id": "sPFHqPIrVr-x",
        "outputId": "0d5ce46b-9372-4198-cc4f-f5502a49d066",
        "colab": {
          "base_uri": "https://localhost:8080/"
        }
      },
      "outputs": [
        {
          "output_type": "execute_result",
          "data": {
            "text/plain": [
              "array([5, 6, 7, 8, 9])"
            ]
          },
          "metadata": {},
          "execution_count": 165
        }
      ],
      "source": [
        "a[filt]"
      ]
    },
    {
      "cell_type": "code",
      "source": [
        "c = np.array([2,3,3,4,5,24,25,26,6])\n",
        "c"
      ],
      "metadata": {
        "colab": {
          "base_uri": "https://localhost:8080/"
        },
        "id": "0vgr91_e-cYz",
        "outputId": "28c7e349-d3ff-41e6-fe5b-df6cb5f1cd0d"
      },
      "execution_count": 25,
      "outputs": [
        {
          "output_type": "execute_result",
          "data": {
            "text/plain": [
              "array([ 2,  3,  3,  4,  5, 24, 25, 26,  6])"
            ]
          },
          "metadata": {},
          "execution_count": 25
        }
      ]
    },
    {
      "cell_type": "code",
      "source": [
        "a == c #indexlerdeki sayılar aynı mı"
      ],
      "metadata": {
        "colab": {
          "base_uri": "https://localhost:8080/"
        },
        "id": "pj2Y9ZRk-plZ",
        "outputId": "e0afeae7-b416-40dd-c004-a6cb19d7cf66"
      },
      "execution_count": 26,
      "outputs": [
        {
          "output_type": "execute_result",
          "data": {
            "text/plain": [
              "array([False, False,  True,  True,  True, False, False, False, False])"
            ]
          },
          "metadata": {},
          "execution_count": 26
        }
      ]
    },
    {
      "cell_type": "code",
      "source": [
        "a[a==c] # hangi değerlerde aynı indexlerdeler"
      ],
      "metadata": {
        "colab": {
          "base_uri": "https://localhost:8080/"
        },
        "id": "Ngr1-K0z_pzY",
        "outputId": "c8b96efc-5e94-4e08-9289-10d1afe0597c"
      },
      "execution_count": 27,
      "outputs": [
        {
          "output_type": "execute_result",
          "data": {
            "text/plain": [
              "array([3, 4, 5])"
            ]
          },
          "metadata": {},
          "execution_count": 27
        }
      ]
    },
    {
      "cell_type": "code",
      "source": [
        "#broadcasting\n",
        "a == [1]"
      ],
      "metadata": {
        "colab": {
          "base_uri": "https://localhost:8080/"
        },
        "id": "amD7MXK1AQeG",
        "outputId": "379f2ec3-3aa7-46a0-a181-4aef88b9fa9a"
      },
      "execution_count": 28,
      "outputs": [
        {
          "output_type": "execute_result",
          "data": {
            "text/plain": [
              "array([ True, False, False, False, False, False, False, False, False])"
            ]
          },
          "metadata": {},
          "execution_count": 28
        }
      ]
    },
    {
      "cell_type": "code",
      "source": [
        "a == 1"
      ],
      "metadata": {
        "colab": {
          "base_uri": "https://localhost:8080/"
        },
        "id": "VN0x9i8IAXuY",
        "outputId": "7a732f01-684c-49cb-f2d6-4dd855482b54"
      },
      "execution_count": 29,
      "outputs": [
        {
          "output_type": "execute_result",
          "data": {
            "text/plain": [
              "array([ True, False, False, False, False, False, False, False, False])"
            ]
          },
          "metadata": {},
          "execution_count": 29
        }
      ]
    },
    {
      "cell_type": "code",
      "source": [
        "filt = (a < 3) | (a > 5)\n",
        "filt"
      ],
      "metadata": {
        "colab": {
          "base_uri": "https://localhost:8080/"
        },
        "id": "8TOa3a48HJiZ",
        "outputId": "7a598c63-a041-43d3-e6b1-8c19298183b5"
      },
      "execution_count": 34,
      "outputs": [
        {
          "output_type": "execute_result",
          "data": {
            "text/plain": [
              "array([ True,  True, False, False, False,  True,  True,  True,  True])"
            ]
          },
          "metadata": {},
          "execution_count": 34
        }
      ]
    },
    {
      "cell_type": "code",
      "source": [
        "a[filt]"
      ],
      "metadata": {
        "colab": {
          "base_uri": "https://localhost:8080/"
        },
        "id": "_YhqUMV3H1Pw",
        "outputId": "b1b7a45a-238b-49d1-e1f4-ccf5a731dab0"
      },
      "execution_count": 33,
      "outputs": [
        {
          "output_type": "execute_result",
          "data": {
            "text/plain": [
              "array([1, 2, 6, 7, 8, 9])"
            ]
          },
          "metadata": {},
          "execution_count": 33
        }
      ]
    },
    {
      "cell_type": "code",
      "source": [
        "a[(a > 3) & (a <= 5)]"
      ],
      "metadata": {
        "colab": {
          "base_uri": "https://localhost:8080/"
        },
        "id": "Qai3-aTcKmvd",
        "outputId": "6c8c3852-77de-4f17-de0b-c444916ef0ad"
      },
      "execution_count": 36,
      "outputs": [
        {
          "output_type": "execute_result",
          "data": {
            "text/plain": [
              "array([4, 5])"
            ]
          },
          "metadata": {},
          "execution_count": 36
        }
      ]
    },
    {
      "cell_type": "code",
      "execution_count": 11,
      "metadata": {
        "id": "vcqwKto_Vr-y",
        "outputId": "2e170d8d-3fe5-4f8b-dd9c-f5fbe0246835",
        "colab": {
          "base_uri": "https://localhost:8080/"
        }
      },
      "outputs": [
        {
          "output_type": "execute_result",
          "data": {
            "text/plain": [
              "array([[1, 2, 3],\n",
              "       [4, 5, 6],\n",
              "       [7, 8, 9]])"
            ]
          },
          "metadata": {},
          "execution_count": 11
        }
      ],
      "source": [
        "b=np.arange(1,10).reshape(3,3)\n",
        "b"
      ]
    },
    {
      "cell_type": "code",
      "execution_count": 12,
      "metadata": {
        "id": "jxiTxZF3Vr-y",
        "outputId": "128798d1-1750-4ed7-a286-afc004b9d7d5",
        "colab": {
          "base_uri": "https://localhost:8080/"
        }
      },
      "outputs": [
        {
          "output_type": "execute_result",
          "data": {
            "text/plain": [
              "array([[ True,  True,  True],\n",
              "       [ True,  True,  True],\n",
              "       [False, False, False]])"
            ]
          },
          "metadata": {},
          "execution_count": 12
        }
      ],
      "source": [
        "b<7"
      ]
    },
    {
      "cell_type": "code",
      "execution_count": 13,
      "metadata": {
        "id": "pVZeJyzmVr-z",
        "outputId": "a2e67ef0-237f-45f3-efb7-67cfab44d9cd",
        "colab": {
          "base_uri": "https://localhost:8080/"
        }
      },
      "outputs": [
        {
          "output_type": "execute_result",
          "data": {
            "text/plain": [
              "array([1, 2, 3, 4, 5, 6])"
            ]
          },
          "metadata": {},
          "execution_count": 13
        }
      ],
      "source": [
        "#filtre boyutu bozar. istenirse sonra tekrardan boyut eklenebilir.\n",
        "b[b<7]"
      ]
    },
    {
      "cell_type": "code",
      "execution_count": null,
      "metadata": {
        "id": "X4bDxiXcVr-0",
        "outputId": "ce5bf00a-9287-460e-fdcd-7104fc31091b",
        "colab": {
          "base_uri": "https://localhost:8080/"
        }
      },
      "outputs": [
        {
          "output_type": "execute_result",
          "data": {
            "text/plain": [
              "array([[1, 2, 3],\n",
              "       [4, 5, 6]])"
            ]
          },
          "metadata": {},
          "execution_count": 169
        }
      ],
      "source": [
        "b[b<7].reshape(2,3)"
      ]
    },
    {
      "cell_type": "code",
      "execution_count": null,
      "metadata": {
        "id": "A4J-0k1ZVr-0"
      },
      "outputs": [],
      "source": [
        "# 7 den küçük elamanlar ile oluşturulan altküme bir array\n",
        "x= b[b<7].reshape(2,3)"
      ]
    },
    {
      "cell_type": "code",
      "execution_count": null,
      "metadata": {
        "id": "nmMM1axrVr-9",
        "outputId": "1a91ad48-1576-401b-c9c9-790bb5864c0b",
        "colab": {
          "base_uri": "https://localhost:8080/"
        }
      },
      "outputs": [
        {
          "output_type": "execute_result",
          "data": {
            "text/plain": [
              "array([[1, 2, 3],\n",
              "       [4, 5, 6]])"
            ]
          },
          "metadata": {},
          "execution_count": 171
        }
      ],
      "source": [
        "x"
      ]
    },
    {
      "cell_type": "markdown",
      "source": [
        "###Filtrenin Değili: **~**\n"
      ],
      "metadata": {
        "id": "aNmFUW7ZUwUS"
      }
    },
    {
      "cell_type": "code",
      "source": [
        "a=np.arange(1,21).reshape(4,5)\n",
        "a"
      ],
      "metadata": {
        "colab": {
          "base_uri": "https://localhost:8080/"
        },
        "id": "94xl0TEUUv45",
        "outputId": "cc93b6ea-4de7-4156-d4a2-57b4d3381dea"
      },
      "execution_count": 37,
      "outputs": [
        {
          "output_type": "execute_result",
          "data": {
            "text/plain": [
              "array([[ 1,  2,  3,  4,  5],\n",
              "       [ 6,  7,  8,  9, 10],\n",
              "       [11, 12, 13, 14, 15],\n",
              "       [16, 17, 18, 19, 20]])"
            ]
          },
          "metadata": {},
          "execution_count": 37
        }
      ]
    },
    {
      "cell_type": "code",
      "source": [
        "filt = a < 5\n",
        "filt"
      ],
      "metadata": {
        "colab": {
          "base_uri": "https://localhost:8080/"
        },
        "id": "wdTbWbccVpD-",
        "outputId": "831b39e3-91a7-4b18-d8dc-98b887382c2d"
      },
      "execution_count": 42,
      "outputs": [
        {
          "output_type": "execute_result",
          "data": {
            "text/plain": [
              "array([[ True,  True,  True,  True, False],\n",
              "       [False, False, False, False, False],\n",
              "       [False, False, False, False, False],\n",
              "       [False, False, False, False, False]])"
            ]
          },
          "metadata": {},
          "execution_count": 42
        }
      ]
    },
    {
      "cell_type": "code",
      "source": [
        "a[filt]"
      ],
      "metadata": {
        "colab": {
          "base_uri": "https://localhost:8080/"
        },
        "id": "WOuty_WQW1Fz",
        "outputId": "53392ca0-1fed-405f-86e9-9c68faa57609"
      },
      "execution_count": 43,
      "outputs": [
        {
          "output_type": "execute_result",
          "data": {
            "text/plain": [
              "array([1, 2, 3, 4])"
            ]
          },
          "metadata": {},
          "execution_count": 43
        }
      ]
    },
    {
      "cell_type": "code",
      "source": [
        "filt = ~((a > 5) & (a < 9))\n",
        "filt"
      ],
      "metadata": {
        "colab": {
          "base_uri": "https://localhost:8080/"
        },
        "id": "D8Kftx5FVozA",
        "outputId": "89ca98ca-6cf2-4402-8395-e548a4f58ebe"
      },
      "execution_count": 39,
      "outputs": [
        {
          "output_type": "execute_result",
          "data": {
            "text/plain": [
              "array([[ True,  True,  True,  True,  True],\n",
              "       [False, False, False,  True,  True],\n",
              "       [ True,  True,  True,  True,  True],\n",
              "       [ True,  True,  True,  True,  True]])"
            ]
          },
          "metadata": {},
          "execution_count": 39
        }
      ]
    },
    {
      "cell_type": "code",
      "source": [
        "a[filt]"
      ],
      "metadata": {
        "colab": {
          "base_uri": "https://localhost:8080/"
        },
        "id": "r1hdOlqJWw2T",
        "outputId": "95f82809-919f-41ce-f30f-f21b012f2bd4"
      },
      "execution_count": 40,
      "outputs": [
        {
          "output_type": "execute_result",
          "data": {
            "text/plain": [
              "array([ 1,  2,  3,  4,  5,  9, 10, 11, 12, 13, 14, 15, 16, 17, 18, 19, 20])"
            ]
          },
          "metadata": {},
          "execution_count": 40
        }
      ]
    },
    {
      "cell_type": "markdown",
      "source": [
        "###Multidimensional Array'lerde Conditional Indexing"
      ],
      "metadata": {
        "id": "0JPmI95vXA8r"
      }
    },
    {
      "cell_type": "code",
      "source": [
        "a=np.arange(1,21).reshape(4,5)\n",
        "a"
      ],
      "metadata": {
        "colab": {
          "base_uri": "https://localhost:8080/"
        },
        "id": "r30cTOy6XJFn",
        "outputId": "91a5efac-0c25-45b6-ad8c-4c223db388b5"
      },
      "execution_count": 44,
      "outputs": [
        {
          "output_type": "execute_result",
          "data": {
            "text/plain": [
              "array([[ 1,  2,  3,  4,  5],\n",
              "       [ 6,  7,  8,  9, 10],\n",
              "       [11, 12, 13, 14, 15],\n",
              "       [16, 17, 18, 19, 20]])"
            ]
          },
          "metadata": {},
          "execution_count": 44
        }
      ]
    },
    {
      "cell_type": "code",
      "source": [
        "type(a) # n dimensional array"
      ],
      "metadata": {
        "colab": {
          "base_uri": "https://localhost:8080/"
        },
        "id": "QPwxC-jXXQSN",
        "outputId": "d77e9977-dbe0-4b09-92f8-c679203e603c"
      },
      "execution_count": 45,
      "outputs": [
        {
          "output_type": "execute_result",
          "data": {
            "text/plain": [
              "numpy.ndarray"
            ]
          },
          "metadata": {},
          "execution_count": 45
        }
      ]
    },
    {
      "cell_type": "code",
      "source": [
        "a < 7"
      ],
      "metadata": {
        "colab": {
          "base_uri": "https://localhost:8080/"
        },
        "id": "z0dhgAaaXWqc",
        "outputId": "90f570f8-d9e7-4cfa-ce05-88f48615e544"
      },
      "execution_count": 46,
      "outputs": [
        {
          "output_type": "execute_result",
          "data": {
            "text/plain": [
              "array([[ True,  True,  True,  True,  True],\n",
              "       [ True, False, False, False, False],\n",
              "       [False, False, False, False, False],\n",
              "       [False, False, False, False, False]])"
            ]
          },
          "metadata": {},
          "execution_count": 46
        }
      ]
    },
    {
      "cell_type": "code",
      "source": [
        "type(a < 7) # n-dimensional array"
      ],
      "metadata": {
        "colab": {
          "base_uri": "https://localhost:8080/"
        },
        "id": "dPySErFSXV7z",
        "outputId": "86f84a71-1641-4d93-9902-8e9166870d18"
      },
      "execution_count": 47,
      "outputs": [
        {
          "output_type": "execute_result",
          "data": {
            "text/plain": [
              "numpy.ndarray"
            ]
          },
          "metadata": {},
          "execution_count": 47
        }
      ]
    },
    {
      "cell_type": "code",
      "source": [
        "a[a < 7]"
      ],
      "metadata": {
        "colab": {
          "base_uri": "https://localhost:8080/"
        },
        "id": "TN-Gu88RX2pC",
        "outputId": "44437dba-ecc8-4100-8d91-c0c849b45e3a"
      },
      "execution_count": 48,
      "outputs": [
        {
          "output_type": "execute_result",
          "data": {
            "text/plain": [
              "array([1, 2, 3, 4, 5, 6])"
            ]
          },
          "metadata": {},
          "execution_count": 48
        }
      ]
    },
    {
      "cell_type": "code",
      "source": [
        "a[a<7].shape #sayı öbeği"
      ],
      "metadata": {
        "colab": {
          "base_uri": "https://localhost:8080/"
        },
        "id": "fbEp-2ubX7uV",
        "outputId": "f897e07b-57b2-4a1a-d3bf-e3f2b695faa7"
      },
      "execution_count": 50,
      "outputs": [
        {
          "output_type": "execute_result",
          "data": {
            "text/plain": [
              "(6,)"
            ]
          },
          "metadata": {},
          "execution_count": 50
        }
      ]
    },
    {
      "cell_type": "code",
      "source": [
        "a = np.array([1,2,3,None], dtype=object)"
      ],
      "metadata": {
        "id": "MWAhEu6pYSdi"
      },
      "execution_count": 51,
      "outputs": []
    },
    {
      "cell_type": "code",
      "source": [
        "a == None # None şeklinde verilenler filtrelenebilir"
      ],
      "metadata": {
        "colab": {
          "base_uri": "https://localhost:8080/"
        },
        "id": "EkWP-dqUYSTh",
        "outputId": "fe65a5ce-41bf-451b-f969-be9229d041a9"
      },
      "execution_count": 52,
      "outputs": [
        {
          "output_type": "execute_result",
          "data": {
            "text/plain": [
              "array([False, False, False,  True])"
            ]
          },
          "metadata": {},
          "execution_count": 52
        }
      ]
    },
    {
      "cell_type": "code",
      "source": [
        "a[a==None]"
      ],
      "metadata": {
        "colab": {
          "base_uri": "https://localhost:8080/"
        },
        "id": "aCgu_tRyYSFW",
        "outputId": "12898033-27ee-4d26-ebf4-207814474a0e"
      },
      "execution_count": 53,
      "outputs": [
        {
          "output_type": "execute_result",
          "data": {
            "text/plain": [
              "array([None], dtype=object)"
            ]
          },
          "metadata": {},
          "execution_count": 53
        }
      ]
    },
    {
      "cell_type": "markdown",
      "metadata": {
        "id": "792rAE2jVr-9"
      },
      "source": [
        "# SUM"
      ]
    },
    {
      "cell_type": "code",
      "execution_count": 54,
      "metadata": {
        "id": "hOgNOr2nVr--",
        "outputId": "f51f15f5-cfa7-4434-e1e1-7c705b355362",
        "colab": {
          "base_uri": "https://localhost:8080/"
        }
      },
      "outputs": [
        {
          "output_type": "execute_result",
          "data": {
            "text/plain": [
              "array([[1, 2, 3],\n",
              "       [4, 5, 6],\n",
              "       [7, 8, 9]])"
            ]
          },
          "metadata": {},
          "execution_count": 54
        }
      ],
      "source": [
        "b=np.arange(1,10).reshape(3,3)\n",
        "b"
      ]
    },
    {
      "cell_type": "code",
      "execution_count": null,
      "metadata": {
        "id": "RsexwnCdVr-_",
        "outputId": "dee8eafa-f381-459c-ea00-311d5e89c1d4",
        "colab": {
          "base_uri": "https://localhost:8080/"
        }
      },
      "outputs": [
        {
          "output_type": "stream",
          "name": "stdout",
          "text": [
            "45\n"
          ]
        }
      ],
      "source": [
        "#bütün elemanları topluyor.\n",
        "print(np.sum(b))"
      ]
    },
    {
      "cell_type": "code",
      "source": [
        "filt = b < 5"
      ],
      "metadata": {
        "id": "_sTDDcOiZNGM"
      },
      "execution_count": 56,
      "outputs": []
    },
    {
      "cell_type": "code",
      "source": [
        "filt"
      ],
      "metadata": {
        "colab": {
          "base_uri": "https://localhost:8080/"
        },
        "id": "q88PxktHZjgC",
        "outputId": "39e046b2-af54-4419-ab5f-c5109342b2eb"
      },
      "execution_count": 58,
      "outputs": [
        {
          "output_type": "execute_result",
          "data": {
            "text/plain": [
              "array([[ True,  True,  True],\n",
              "       [ True, False, False],\n",
              "       [False, False, False]])"
            ]
          },
          "metadata": {},
          "execution_count": 58
        }
      ]
    },
    {
      "cell_type": "code",
      "source": [
        "b[filt]"
      ],
      "metadata": {
        "colab": {
          "base_uri": "https://localhost:8080/"
        },
        "id": "h44PebxcZseV",
        "outputId": "985d1e9a-c1e4-4164-c3e8-2f1c69325c2b"
      },
      "execution_count": 59,
      "outputs": [
        {
          "output_type": "execute_result",
          "data": {
            "text/plain": [
              "array([1, 2, 3, 4])"
            ]
          },
          "metadata": {},
          "execution_count": 59
        }
      ]
    },
    {
      "cell_type": "code",
      "source": [
        "np.sum(filt) #filtreye uyan kaç tane eleman var"
      ],
      "metadata": {
        "colab": {
          "base_uri": "https://localhost:8080/"
        },
        "id": "nm80DXwtZQ82",
        "outputId": "5755ffc4-29c9-40ed-e256-1ec3d39847c9"
      },
      "execution_count": 57,
      "outputs": [
        {
          "output_type": "execute_result",
          "data": {
            "text/plain": [
              "np.int64(4)"
            ]
          },
          "metadata": {},
          "execution_count": 57
        }
      ]
    },
    {
      "cell_type": "code",
      "source": [
        "np.sum(b[filt])# 1+2+3+4"
      ],
      "metadata": {
        "colab": {
          "base_uri": "https://localhost:8080/"
        },
        "id": "nEDlCqIjZ1Ba",
        "outputId": "19f7d92a-d844-40f0-9263-071f885cdaba"
      },
      "execution_count": 60,
      "outputs": [
        {
          "output_type": "execute_result",
          "data": {
            "text/plain": [
              "np.int64(10)"
            ]
          },
          "metadata": {},
          "execution_count": 60
        }
      ]
    },
    {
      "cell_type": "code",
      "execution_count": null,
      "metadata": {
        "id": "MyQzV1s2Vr_A",
        "outputId": "6575c804-6653-4ce0-a077-f2acc0fefd30",
        "colab": {
          "base_uri": "https://localhost:8080/"
        }
      },
      "outputs": [
        {
          "output_type": "execute_result",
          "data": {
            "text/plain": [
              "np.int64(21)"
            ]
          },
          "metadata": {},
          "execution_count": 174
        }
      ],
      "source": [
        "#7'den küçük olanların toplamı\n",
        "np.sum(b[b<7])"
      ]
    },
    {
      "cell_type": "code",
      "source": [
        "filt2= ~((b > 5) & (b < 9))\n",
        "filt2"
      ],
      "metadata": {
        "colab": {
          "base_uri": "https://localhost:8080/"
        },
        "id": "iX9VEpLNaMbs",
        "outputId": "37cf9c72-0cce-4531-9061-b0e9bfaabb48"
      },
      "execution_count": 61,
      "outputs": [
        {
          "output_type": "execute_result",
          "data": {
            "text/plain": [
              "array([[ True,  True,  True],\n",
              "       [ True,  True, False],\n",
              "       [False, False,  True]])"
            ]
          },
          "metadata": {},
          "execution_count": 61
        }
      ]
    },
    {
      "cell_type": "code",
      "source": [
        "np.sum(filt2) # kaç eleman var"
      ],
      "metadata": {
        "colab": {
          "base_uri": "https://localhost:8080/"
        },
        "id": "nQfguPcPaWOy",
        "outputId": "898e371c-aae9-4662-8a62-ac523284277d"
      },
      "execution_count": 63,
      "outputs": [
        {
          "output_type": "execute_result",
          "data": {
            "text/plain": [
              "np.int64(6)"
            ]
          },
          "metadata": {},
          "execution_count": 63
        }
      ]
    },
    {
      "cell_type": "code",
      "source": [
        "np.sum(b[filt2])#elemanların toplamı"
      ],
      "metadata": {
        "colab": {
          "base_uri": "https://localhost:8080/"
        },
        "id": "XSif9_z_ap0t",
        "outputId": "22d6a708-b02a-4c65-df2a-29928337b863"
      },
      "execution_count": 64,
      "outputs": [
        {
          "output_type": "execute_result",
          "data": {
            "text/plain": [
              "np.int64(24)"
            ]
          },
          "metadata": {},
          "execution_count": 64
        }
      ]
    },
    {
      "cell_type": "markdown",
      "source": [
        "###Belirli Axis Üzeride Toplama"
      ],
      "metadata": {
        "id": "Fv7DaWpka6EV"
      }
    },
    {
      "cell_type": "code",
      "source": [
        "b"
      ],
      "metadata": {
        "colab": {
          "base_uri": "https://localhost:8080/"
        },
        "id": "JP7NhPwIbotB",
        "outputId": "7de8e807-e933-4703-bf01-33ae9d4fa98d"
      },
      "execution_count": 66,
      "outputs": [
        {
          "output_type": "execute_result",
          "data": {
            "text/plain": [
              "array([[1, 2, 3],\n",
              "       [4, 5, 6],\n",
              "       [7, 8, 9]])"
            ]
          },
          "metadata": {},
          "execution_count": 66
        }
      ]
    },
    {
      "cell_type": "code",
      "execution_count": 68,
      "metadata": {
        "id": "YGvsotPFVr_A",
        "outputId": "b66b2a81-9747-440c-afd0-f57b8d038148",
        "colab": {
          "base_uri": "https://localhost:8080/"
        }
      },
      "outputs": [
        {
          "output_type": "execute_result",
          "data": {
            "text/plain": [
              "(3,)"
            ]
          },
          "metadata": {},
          "execution_count": 68
        }
      ],
      "source": [
        "# sütunların toplamı\n",
        "# aslında her bir satırın ilk elemanlarını alıp topluyorsun\n",
        "np.sum(b,axis=0)"
      ]
    },
    {
      "cell_type": "code",
      "execution_count": 65,
      "metadata": {
        "id": "fyesJJkIVr_B",
        "outputId": "6149fd1b-399a-4b9c-e58e-b8b99b9b34bf",
        "colab": {
          "base_uri": "https://localhost:8080/"
        }
      },
      "outputs": [
        {
          "output_type": "execute_result",
          "data": {
            "text/plain": [
              "array([ 6, 15, 24])"
            ]
          },
          "metadata": {},
          "execution_count": 65
        }
      ],
      "source": [
        "# satırların toplamı\n",
        "#her bir sütunun ilk elemanlarını alıp topluyorsun\n",
        "np.sum(b,axis=1)"
      ]
    },
    {
      "cell_type": "code",
      "source": [
        "np.sum(b,axis=0).shape\n"
      ],
      "metadata": {
        "colab": {
          "base_uri": "https://localhost:8080/"
        },
        "id": "mh7A39nDcJN_",
        "outputId": "2cac545b-9fa1-4283-b7d6-e6798220bffa"
      },
      "execution_count": 70,
      "outputs": [
        {
          "output_type": "execute_result",
          "data": {
            "text/plain": [
              "(3,)"
            ]
          },
          "metadata": {},
          "execution_count": 70
        }
      ]
    },
    {
      "cell_type": "code",
      "source": [
        "np.sum(b,axis=1).shape"
      ],
      "metadata": {
        "colab": {
          "base_uri": "https://localhost:8080/"
        },
        "id": "D1juTdLlcQvm",
        "outputId": "6bca825d-22b0-4be9-bc51-31115c275c64"
      },
      "execution_count": 71,
      "outputs": [
        {
          "output_type": "execute_result",
          "data": {
            "text/plain": [
              "(3,)"
            ]
          },
          "metadata": {},
          "execution_count": 71
        }
      ]
    },
    {
      "cell_type": "code",
      "execution_count": 67,
      "metadata": {
        "id": "-Jx3O9QNVr_B",
        "colab": {
          "base_uri": "https://localhost:8080/"
        },
        "outputId": "84ee6d89-a95a-4663-c82f-623cd7fe585c"
      },
      "outputs": [
        {
          "output_type": "execute_result",
          "data": {
            "text/plain": [
              "np.int64(45)"
            ]
          },
          "metadata": {},
          "execution_count": 67
        }
      ],
      "source": [
        "np.sum(b)"
      ]
    },
    {
      "cell_type": "markdown",
      "source": [
        "##All\n",
        "\n",
        "Tüm elemanlar verilen şartı sağlıyor mu kontrol edilir."
      ],
      "metadata": {
        "id": "8CyfrBhccbiE"
      }
    },
    {
      "cell_type": "code",
      "execution_count": 72,
      "metadata": {
        "id": "1cB1OUynVr_C",
        "colab": {
          "base_uri": "https://localhost:8080/"
        },
        "outputId": "586ede4d-2947-4134-a8af-8b08482da674"
      },
      "outputs": [
        {
          "output_type": "execute_result",
          "data": {
            "text/plain": [
              "array([[ 1,  2,  3,  4,  5],\n",
              "       [ 6,  7,  8,  9, 10],\n",
              "       [11, 12, 13, 14, 15],\n",
              "       [16, 17, 18, 19, 20]])"
            ]
          },
          "metadata": {},
          "execution_count": 72
        }
      ],
      "source": [
        "a = np.arange(1,21).reshape(4,5)\n",
        "a"
      ]
    },
    {
      "cell_type": "code",
      "source": [
        "a > -1"
      ],
      "metadata": {
        "colab": {
          "base_uri": "https://localhost:8080/"
        },
        "id": "1X6P0gumc5l2",
        "outputId": "776ed657-f0bf-42ff-e4c4-833978e47464"
      },
      "execution_count": 73,
      "outputs": [
        {
          "output_type": "execute_result",
          "data": {
            "text/plain": [
              "array([[ True,  True,  True,  True,  True],\n",
              "       [ True,  True,  True,  True,  True],\n",
              "       [ True,  True,  True,  True,  True],\n",
              "       [ True,  True,  True,  True,  True]])"
            ]
          },
          "metadata": {},
          "execution_count": 73
        }
      ]
    },
    {
      "cell_type": "code",
      "source": [
        "np.all(a > -1)"
      ],
      "metadata": {
        "colab": {
          "base_uri": "https://localhost:8080/"
        },
        "id": "T8AyIMtlc5Su",
        "outputId": "5fb4c16e-a11d-412d-8d49-84ceed8ccaf3"
      },
      "execution_count": 75,
      "outputs": [
        {
          "output_type": "execute_result",
          "data": {
            "text/plain": [
              "np.True_"
            ]
          },
          "metadata": {},
          "execution_count": 75
        }
      ]
    },
    {
      "cell_type": "code",
      "source": [
        "np.all(a > 5)"
      ],
      "metadata": {
        "colab": {
          "base_uri": "https://localhost:8080/"
        },
        "id": "Z0n43lIddGeV",
        "outputId": "e45e44b6-e19e-45d4-895c-91d2ab912177"
      },
      "execution_count": 76,
      "outputs": [
        {
          "output_type": "execute_result",
          "data": {
            "text/plain": [
              "np.False_"
            ]
          },
          "metadata": {},
          "execution_count": 76
        }
      ]
    },
    {
      "cell_type": "code",
      "source": [
        "np.all( a > 5, axis=0)"
      ],
      "metadata": {
        "colab": {
          "base_uri": "https://localhost:8080/"
        },
        "id": "RvWpzP6QdKo3",
        "outputId": "dcee3ade-010c-4a20-e7c8-ec17fd071df2"
      },
      "execution_count": 77,
      "outputs": [
        {
          "output_type": "execute_result",
          "data": {
            "text/plain": [
              "array([False, False, False, False, False])"
            ]
          },
          "metadata": {},
          "execution_count": 77
        }
      ]
    },
    {
      "cell_type": "code",
      "source": [
        "np.all( a > 5, axis=1)"
      ],
      "metadata": {
        "colab": {
          "base_uri": "https://localhost:8080/"
        },
        "id": "rtlAbzaYdKbz",
        "outputId": "2a2796bc-b7b4-4b47-b529-7b6d257ab83c"
      },
      "execution_count": 78,
      "outputs": [
        {
          "output_type": "execute_result",
          "data": {
            "text/plain": [
              "array([False,  True,  True,  True])"
            ]
          },
          "metadata": {},
          "execution_count": 78
        }
      ]
    },
    {
      "cell_type": "markdown",
      "source": [
        "##**any()**\n",
        "\n",
        "Herhangi bir eleman verilen sartı sağlıyor mu kontrol etmek"
      ],
      "metadata": {
        "id": "aK3nwocrd-lU"
      }
    },
    {
      "cell_type": "code",
      "source": [
        "a = np.arange(20).reshape(4,5)\n",
        "a"
      ],
      "metadata": {
        "colab": {
          "base_uri": "https://localhost:8080/"
        },
        "id": "2vn8qY1heLcG",
        "outputId": "cba8c4fc-f5ec-487b-8253-23439686e92c"
      },
      "execution_count": 80,
      "outputs": [
        {
          "output_type": "execute_result",
          "data": {
            "text/plain": [
              "array([[ 0,  1,  2,  3,  4],\n",
              "       [ 5,  6,  7,  8,  9],\n",
              "       [10, 11, 12, 13, 14],\n",
              "       [15, 16, 17, 18, 19]])"
            ]
          },
          "metadata": {},
          "execution_count": 80
        }
      ]
    },
    {
      "cell_type": "code",
      "source": [
        "a > 17"
      ],
      "metadata": {
        "colab": {
          "base_uri": "https://localhost:8080/"
        },
        "id": "0_aRdyIBeL6H",
        "outputId": "3f50628c-a716-4860-d92f-ca7c7d10d6bc"
      },
      "execution_count": 81,
      "outputs": [
        {
          "output_type": "execute_result",
          "data": {
            "text/plain": [
              "array([[False, False, False, False, False],\n",
              "       [False, False, False, False, False],\n",
              "       [False, False, False, False, False],\n",
              "       [False, False, False,  True,  True]])"
            ]
          },
          "metadata": {},
          "execution_count": 81
        }
      ]
    },
    {
      "cell_type": "code",
      "source": [
        "np.any(a>17)"
      ],
      "metadata": {
        "colab": {
          "base_uri": "https://localhost:8080/"
        },
        "id": "wCZyrOedeYtJ",
        "outputId": "73d7970d-6fa7-4a6b-c2f6-b91887719088"
      },
      "execution_count": 82,
      "outputs": [
        {
          "output_type": "execute_result",
          "data": {
            "text/plain": [
              "np.True_"
            ]
          },
          "metadata": {},
          "execution_count": 82
        }
      ]
    },
    {
      "cell_type": "code",
      "source": [
        "np.any(a>17, axis= 0)"
      ],
      "metadata": {
        "colab": {
          "base_uri": "https://localhost:8080/"
        },
        "id": "rcOVADyJeYR_",
        "outputId": "5de12f93-78c9-471e-ea55-d4a016063db8"
      },
      "execution_count": 83,
      "outputs": [
        {
          "output_type": "execute_result",
          "data": {
            "text/plain": [
              "array([False, False, False,  True,  True])"
            ]
          },
          "metadata": {},
          "execution_count": 83
        }
      ]
    },
    {
      "cell_type": "code",
      "source": [
        "np.any(a>17, axis= 1)"
      ],
      "metadata": {
        "colab": {
          "base_uri": "https://localhost:8080/"
        },
        "id": "Y3TSPqvQehrE",
        "outputId": "d477fe5e-6810-4da7-aaf4-a53366c03abf"
      },
      "execution_count": 84,
      "outputs": [
        {
          "output_type": "execute_result",
          "data": {
            "text/plain": [
              "array([False, False, False,  True])"
            ]
          },
          "metadata": {},
          "execution_count": 84
        }
      ]
    }
  ],
  "metadata": {
    "kernelspec": {
      "display_name": "Python 3",
      "language": "python",
      "name": "python3"
    },
    "language_info": {
      "codemirror_mode": {
        "name": "ipython",
        "version": 3
      },
      "file_extension": ".py",
      "mimetype": "text/x-python",
      "name": "python",
      "nbconvert_exporter": "python",
      "pygments_lexer": "ipython3",
      "version": "3.7.6"
    },
    "colab": {
      "provenance": [],
      "toc_visible": true
    }
  },
  "nbformat": 4,
  "nbformat_minor": 0
}